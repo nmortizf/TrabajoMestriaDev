{
 "cells": [
  {
   "cell_type": "code",
   "execution_count": 1,
   "metadata": {},
   "outputs": [
    {
     "name": "stderr",
     "output_type": "stream",
     "text": [
      "Using TensorFlow backend.\n"
     ]
    }
   ],
   "source": [
    "# Se comienza cargando las librerias de Numpy, MatplotLib y Pandas\n",
    "import numpy as np\n",
    "import matplotlib.pyplot as plt\n",
    "%matplotlib inline\n",
    "# Para cargar las imagenes\n",
    "import cv2\n",
    "# Para cargar los archivos de Excel\n",
    "import pandas as pd\n",
    "from pandas import DataFrame\n",
    "# para ver diagrama de barras\n",
    "import seaborn as sns\n",
    "# libreria One Hot Coding\n",
    "from sklearn.preprocessing import LabelBinarizer\n",
    "# Libreria para datos Train y Test\n",
    "from sklearn.model_selection import train_test_split\n",
    "# Librerias para trabajar con redes CNN\n",
    "import keras\n",
    "from keras.models import Sequential\n",
    "from keras.layers import Dense, Conv2D, MaxPooling2D, Flatten, Dropout, MaxPool2D\n",
    "from keras import layers\n",
    "from keras.wrappers.scikit_learn import KerasClassifier\n",
    "from sklearn.model_selection import GridSearchCV\n",
    "from sklearn.datasets import make_classification\n",
    "from keras import models\n",
    "from keras.models import Model\n",
    "from keras.models import load_model\n",
    "# Libreria para reportes de modelos\n",
    "from sklearn.metrics import classification_report\n",
    "# Libreria matrix confusión\n",
    "from sklearn.metrics import confusion_matrix\n",
    "# Librerias para hacer convolucion\n",
    "from scipy.ndimage.filters import convolve\n",
    "from scipy.signal import convolve2d\n",
    "from scipy import misc\n",
    "# carga la libreria de sistema operativo\n",
    "import os\n",
    "# carga archivo json\n",
    "from keras.models import model_from_json"
   ]
  },
  {
   "cell_type": "markdown",
   "metadata": {},
   "source": [
    "# Funciones #"
   ]
  },
  {
   "cell_type": "code",
   "execution_count": 2,
   "metadata": {},
   "outputs": [],
   "source": [
    "# funcion para transformar binario a etiqueta\n",
    "def binaryToWords(input1):\n",
    "    letras_y_test = []\n",
    "    señal = ''\n",
    "    Atardecer =       np.array([1,0,0,0,0,0,0,0,0,0,0,0,0,0,0,0,0,0,0,0,0,0])\n",
    "    Bano =            np.array([0,1,0,0,0,0,0,0,0,0,0,0,0,0,0,0,0,0,0,0,0,0])\n",
    "    Casa =            np.array([0,0,1,0,0,0,0,0,0,0,0,0,0,0,0,0,0,0,0,0,0,0])\n",
    "    Color =           np.array([0,0,0,1,0,0,0,0,0,0,0,0,0,0,0,0,0,0,0,0,0,0])\n",
    "    Escuchar =        np.array([0,0,0,0,1,0,0,0,0,0,0,0,0,0,0,0,0,0,0,0,0,0])\n",
    "    Gracias =         np.array([0,0,0,0,0,1,0,0,0,0,0,0,0,0,0,0,0,0,0,0,0,0])\n",
    "    Hola1 =           np.array([0,0,0,0,0,0,1,0,0,0,0,0,0,0,0,0,0,0,0,0,0,0])\n",
    "    Hola2 =           np.array([0,0,0,0,0,0,0,1,0,0,0,0,0,0,0,0,0,0,0,0,0,0])\n",
    "    Hoy =             np.array([0,0,0,0,0,0,0,0,1,0,0,0,0,0,0,0,0,0,0,0,0,0])\n",
    "    Mama =            np.array([0,0,0,0,0,0,0,0,0,1,0,0,0,0,0,0,0,0,0,0,0,0])\n",
    "    MuchoGusto =      np.array([0,0,0,0,0,0,0,0,0,0,1,0,0,0,0,0,0,0,0,0,0,0])\n",
    "    Nombre =          np.array([0,0,0,0,0,0,0,0,0,0,0,1,0,0,0,0,0,0,0,0,0,0])\n",
    "    Novio =           np.array([0,0,0,0,0,0,0,0,0,0,0,0,1,0,0,0,0,0,0,0,0,0])\n",
    "    Papa =            np.array([0,0,0,0,0,0,0,0,0,0,0,0,0,1,0,0,0,0,0,0,0,0])\n",
    "    Profesor =        np.array([0,0,0,0,0,0,0,0,0,0,0,0,0,0,1,0,0,0,0,0,0,0])\n",
    "    QuePaso =         np.array([0,0,0,0,0,0,0,0,0,0,0,0,0,0,0,1,0,0,0,0,0,0])\n",
    "    Sientese =        np.array([0,0,0,0,0,0,0,0,0,0,0,0,0,0,0,0,1,0,0,0,0,0])\n",
    "    Television =      np.array([0,0,0,0,0,0,0,0,0,0,0,0,0,0,0,0,0,1,0,0,0,0])\n",
    "    TenerCuriosidad = np.array([0,0,0,0,0,0,0,0,0,0,0,0,0,0,0,0,0,0,1,0,0,0])\n",
    "    TenerPosesion =   np.array([0,0,0,0,0,0,0,0,0,0,0,0,0,0,0,0,0,0,0,1,0,0])\n",
    "    Universidad =     np.array([0,0,0,0,0,0,0,0,0,0,0,0,0,0,0,0,0,0,0,0,1,0])\n",
    "    Yo =              np.array([0,0,0,0,0,0,0,0,0,0,0,0,0,0,0,0,0,0,0,0,0,1])  \n",
    "    \n",
    "    for num in input1:\n",
    "        if np.array_equal(num,Hoy):\n",
    "            señal = 'HOY'\n",
    "        elif np.array_equal(num,Yo):\n",
    "            señal = 'YO'\n",
    "        elif np.array_equal(num,Hola1):\n",
    "            señal = 'HOLA1'\n",
    "        elif np.array_equal(num,Hola2):\n",
    "            señal = 'HOLA2'\n",
    "        elif np.array_equal(num,QuePaso):\n",
    "            señal = 'QUE_PASO_?'\n",
    "        elif np.array_equal(num,Gracias):\n",
    "            señal = 'GRACIAS'\n",
    "        elif np.array_equal(num,MuchoGusto):\n",
    "            señal = 'MUCHO_GUSTO'\n",
    "        elif np.array_equal(num,Sientese):\n",
    "            señal = 'SIENTESE'\n",
    "        elif np.array_equal(num,Bano):\n",
    "            señal = 'BANO'\n",
    "        elif np.array_equal(num,Escuchar):\n",
    "            señal = 'ESCUCHAR'\n",
    "        elif np.array_equal(num,Atardecer):\n",
    "            señal = 'ATARDECER'\n",
    "        elif np.array_equal(num,Color):\n",
    "            señal = 'COLOR'\n",
    "        elif np.array_equal(num,Profesor):\n",
    "            señal = 'PROFESOR'\n",
    "        elif np.array_equal(num,Universidad):\n",
    "            señal = 'UNIVERSIDAD'\n",
    "        elif np.array_equal(num,Television):\n",
    "            señal = 'TELEVISION'\n",
    "        elif np.array_equal(num,Novio):\n",
    "            señal = 'NOVIO'\n",
    "        elif np.array_equal(num,Nombre):\n",
    "            señal = 'NOMBRE'\n",
    "        elif np.array_equal(num,Papa):\n",
    "            señal = 'PAPA'\n",
    "        elif np.array_equal(num,Mama):\n",
    "            señal = 'MAMA'\n",
    "        elif np.array_equal(num,TenerPosesion):\n",
    "            señal = 'TENER_POSESION'\n",
    "        elif np.array_equal(num,TenerCuriosidad):\n",
    "            señal = 'TENER_CURIOSIDAD'\n",
    "        elif np.array_equal(num,Casa):\n",
    "            señal = 'CASA'\n",
    "        letras_y_test.append(señal)\n",
    "    return letras_y_test "
   ]
  },
  {
   "cell_type": "code",
   "execution_count": 3,
   "metadata": {},
   "outputs": [],
   "source": [
    "# definimos una funcion para que sea mas facil de leer la matrix\n",
    "def pretty_confusion_matrix(y_true, y_pred, labels=[\"HOY\",\"YO\",\"HOLA1\",\"HOLA2\",\"QUE_PASO_?\",\"GRACIAS\",\"MUCHO_GUSTO\",\n",
    "                                                   \"SIENTESE\",\"BANO\",\"ESCUCHAR\",\"ATARDECER\",\"COLOR\",\"PROFESOR\",\"UNIVERSIDAD\",\n",
    "                                                   \"TELEVISION\",\"NOVIO\",\"NOMBRE\",\"PAPA\",\"MAMA\",\"TENER_POSESION'\",\n",
    "                                                    \"TENER_CURIOSIDAD\",\"CASA\"]):\n",
    "    cm = confusion_matrix(y_true, y_pred)\n",
    "    pred_labels = [l for l in labels]\n",
    "    df = pd.DataFrame(cm, index=labels, columns=pred_labels)\n",
    "    return df"
   ]
  },
  {
   "cell_type": "markdown",
   "metadata": {},
   "source": [
    "# Cargue Datos y Redimensionamiento #"
   ]
  },
  {
   "cell_type": "code",
   "execution_count": 4,
   "metadata": {},
   "outputs": [],
   "source": [
    "# Se crea la matriz que contendra todas las imagenes entrenadas\n",
    "matriz = np.zeros((3168,76800))\n",
    "\n",
    "# Ruta donde estan todos los archivos\n",
    "ruta = 'C:/Users/ortiz/Documents/NelsonOrtizArchivos/Repositorio Final/'\n",
    "img_counter = 0\n",
    "\n",
    "for archivo in os.listdir(ruta):\n",
    "    #print(archivo)\n",
    "    img_name = archivo\n",
    "    imagen = cv2.imread(ruta + img_name,cv2.IMREAD_GRAYSCALE)\n",
    "    nueva_imagen = cv2.resize(imagen,(320,240))\n",
    "    matriz[img_counter,:] = np.reshape(nueva_imagen,(1,76800))\n",
    "    img_counter += 1"
   ]
  },
  {
   "cell_type": "code",
   "execution_count": 5,
   "metadata": {},
   "outputs": [
    {
     "name": "stdout",
     "output_type": "stream",
     "text": [
      "Las dimensiones de las etiquetas son:  (3168, 3)\n"
     ]
    },
    {
     "data": {
      "text/html": [
       "<div>\n",
       "<style scoped>\n",
       "    .dataframe tbody tr th:only-of-type {\n",
       "        vertical-align: middle;\n",
       "    }\n",
       "\n",
       "    .dataframe tbody tr th {\n",
       "        vertical-align: top;\n",
       "    }\n",
       "\n",
       "    .dataframe thead th {\n",
       "        text-align: right;\n",
       "    }\n",
       "</style>\n",
       "<table border=\"1\" class=\"dataframe\">\n",
       "  <thead>\n",
       "    <tr style=\"text-align: right;\">\n",
       "      <th></th>\n",
       "      <th>Secuencia</th>\n",
       "      <th>Nombre Archivo</th>\n",
       "      <th>Etiqueta</th>\n",
       "    </tr>\n",
       "  </thead>\n",
       "  <tbody>\n",
       "    <tr>\n",
       "      <th>0</th>\n",
       "      <td>1</td>\n",
       "      <td>1000</td>\n",
       "      <td>HOY</td>\n",
       "    </tr>\n",
       "    <tr>\n",
       "      <th>1</th>\n",
       "      <td>2</td>\n",
       "      <td>10001</td>\n",
       "      <td>YO</td>\n",
       "    </tr>\n",
       "    <tr>\n",
       "      <th>2</th>\n",
       "      <td>3</td>\n",
       "      <td>10002</td>\n",
       "      <td>YO</td>\n",
       "    </tr>\n",
       "    <tr>\n",
       "      <th>3</th>\n",
       "      <td>4</td>\n",
       "      <td>10003</td>\n",
       "      <td>YO</td>\n",
       "    </tr>\n",
       "    <tr>\n",
       "      <th>4</th>\n",
       "      <td>5</td>\n",
       "      <td>10004</td>\n",
       "      <td>YO</td>\n",
       "    </tr>\n",
       "  </tbody>\n",
       "</table>\n",
       "</div>"
      ],
      "text/plain": [
       "   Secuencia  Nombre Archivo Etiqueta\n",
       "0          1            1000      HOY\n",
       "1          2           10001       YO\n",
       "2          3           10002       YO\n",
       "3          4           10003       YO\n",
       "4          5           10004       YO"
      ]
     },
     "execution_count": 5,
     "metadata": {},
     "output_type": "execute_result"
    }
   ],
   "source": [
    "# Se carga el archivo excel que contiene las etiquetas de los datos usados para el modelo\n",
    "etiquetas = pd.read_csv(\"C:/Users/ortiz/Documents/NelsonOrtizArchivos/etiquetas_final_ajustadas.csv\")\n",
    "print(\"Las dimensiones de las etiquetas son: \",etiquetas.shape)\n",
    "etiquetas.head(5)"
   ]
  },
  {
   "cell_type": "code",
   "execution_count": 6,
   "metadata": {},
   "outputs": [],
   "source": [
    "# Se separan las etiquetas en un array\n",
    "labels = etiquetas['Etiqueta'].values\n",
    "#labels"
   ]
  },
  {
   "cell_type": "code",
   "execution_count": 7,
   "metadata": {},
   "outputs": [
    {
     "data": {
      "text/plain": [
       "<matplotlib.axes._subplots.AxesSubplot at 0x23e16543f28>"
      ]
     },
     "execution_count": 7,
     "metadata": {},
     "output_type": "execute_result"
    },
    {
     "data": {
      "image/png": "[encoded data removed]",
      "text/plain": [
       "<Figure size 2880x504 with 1 Axes>"
      ]
     },
     "metadata": {
      "needs_background": "light"
     },
     "output_type": "display_data"
    }
   ],
   "source": [
    "# Grafica de distribucion de los datos\n",
    "np.unique(np.array(labels))\n",
    "plt.figure(figsize=(40,7))\n",
    "sns.countplot(x = labels)"
   ]
  },
  {
   "cell_type": "code",
   "execution_count": 8,
   "metadata": {},
   "outputs": [
    {
     "name": "stdout",
     "output_type": "stream",
     "text": [
      "Las nuevas dimensiones de las etiquetas son:  (3168, 22)\n"
     ]
    },
    {
     "data": {
      "text/plain": [
       "array([[0, 0, 0, ..., 0, 0, 0],\n",
       "       [0, 0, 0, ..., 0, 0, 1],\n",
       "       [0, 0, 0, ..., 0, 0, 1],\n",
       "       ...,\n",
       "       [0, 0, 0, ..., 0, 0, 0],\n",
       "       [0, 0, 0, ..., 0, 0, 0],\n",
       "       [0, 0, 0, ..., 0, 0, 0]])"
      ]
     },
     "execution_count": 8,
     "metadata": {},
     "output_type": "execute_result"
    }
   ],
   "source": [
    "# Transformamos las etiquetas en el modo OneHotCode\n",
    "label_binrizer = LabelBinarizer()\n",
    "labels_one = label_binrizer.fit_transform(labels)\n",
    "print(\"Las nuevas dimensiones de las etiquetas son: \", labels_one.shape)\n",
    "labels_one"
   ]
  },
  {
   "cell_type": "code",
   "execution_count": 9,
   "metadata": {},
   "outputs": [],
   "source": [
    "#Usamos la distribucion de los datos para crear los de entrenamiento y los de pruebas\n",
    "x_train, x_test, y_train, y_test = train_test_split(matriz, labels, test_size = 0.3, stratify=labels, random_state = 101)"
   ]
  },
  {
   "cell_type": "code",
   "execution_count": 10,
   "metadata": {},
   "outputs": [
    {
     "data": {
      "text/plain": [
       "<matplotlib.axes._subplots.AxesSubplot at 0x23e8ca8b860>"
      ]
     },
     "execution_count": 10,
     "metadata": {},
     "output_type": "execute_result"
    },
    {
     "data": {
      "image/png": "[encoded data removed]",
      "text/plain": [
       "<Figure size 2880x720 with 1 Axes>"
      ]
     },
     "metadata": {
      "needs_background": "light"
     },
     "output_type": "display_data"
    }
   ],
   "source": [
    "np.unique(np.array(y_train))\n",
    "plt.figure(figsize=(40,10))\n",
    "sns.countplot(x = y_train)"
   ]
  },
  {
   "cell_type": "code",
   "execution_count": 11,
   "metadata": {},
   "outputs": [],
   "source": [
    "## usamos ahora con las etiquetas en One Hot Code\n",
    "x_train, x_test, y_train, y_test = train_test_split(matriz, labels_one, test_size = 0.3, stratify=labels_one, random_state = 101)"
   ]
  },
  {
   "cell_type": "code",
   "execution_count": 12,
   "metadata": {},
   "outputs": [
    {
     "data": {
      "text/plain": [
       "<matplotlib.image.AxesImage at 0x23e8c58cb00>"
      ]
     },
     "execution_count": 12,
     "metadata": {},
     "output_type": "execute_result"
    },
    {
     "data": {
      "image/png": "[encoded data removed]",
      "text/plain": [
       "<Figure size 432x288 with 1 Axes>"
      ]
     },
     "metadata": {
      "needs_background": "light"
     },
     "output_type": "display_data"
    }
   ],
   "source": [
    "plt.imshow(x_train[11].reshape(240,320))"
   ]
  },
  {
   "cell_type": "code",
   "execution_count": 13,
   "metadata": {},
   "outputs": [
    {
     "data": {
      "text/plain": [
       "array([0, 0, 1, 0, 0, 0, 0, 0, 0, 0, 0, 0, 0, 0, 0, 0, 0, 0, 0, 0, 0, 0])"
      ]
     },
     "execution_count": 13,
     "metadata": {},
     "output_type": "execute_result"
    }
   ],
   "source": [
    "y_train[11]"
   ]
  },
  {
   "cell_type": "code",
   "execution_count": 14,
   "metadata": {},
   "outputs": [
    {
     "data": {
      "text/plain": [
       "(2217, 76800)"
      ]
     },
     "execution_count": 14,
     "metadata": {},
     "output_type": "execute_result"
    }
   ],
   "source": [
    "x_train.shape"
   ]
  },
  {
   "cell_type": "code",
   "execution_count": 15,
   "metadata": {},
   "outputs": [
    {
     "data": {
      "text/plain": [
       "<matplotlib.image.AxesImage at 0x23e8c5f6cc0>"
      ]
     },
     "execution_count": 15,
     "metadata": {},
     "output_type": "execute_result"
    },
    {
     "data": {
      "image/png": "[encoded data removed]",
      "text/plain": [
       "<Figure size 432x288 with 1 Axes>"
      ]
     },
     "metadata": {
      "needs_background": "light"
     },
     "output_type": "display_data"
    }
   ],
   "source": [
    "plt.imshow(x_test[76].reshape(240,320))"
   ]
  },
  {
   "cell_type": "code",
   "execution_count": 16,
   "metadata": {},
   "outputs": [
    {
     "data": {
      "text/plain": [
       "array([0, 0, 0, 0, 0, 0, 0, 0, 0, 0, 0, 0, 0, 0, 0, 0, 0, 0, 0, 1, 0, 0])"
      ]
     },
     "execution_count": 16,
     "metadata": {},
     "output_type": "execute_result"
    }
   ],
   "source": [
    "y_test[76]"
   ]
  },
  {
   "cell_type": "markdown",
   "metadata": {},
   "source": [
    "# Normalización Datos #"
   ]
  },
  {
   "cell_type": "code",
   "execution_count": 17,
   "metadata": {},
   "outputs": [
    {
     "name": "stdout",
     "output_type": "stream",
     "text": [
      "255.0\n",
      "0.0\n",
      "255.0\n",
      "1.0\n"
     ]
    }
   ],
   "source": [
    "# Se revisa los valores Maximos y Minimos Antes de Normalizar\n",
    "print(x_train.max())\n",
    "print(x_train.min())\n",
    "print(x_test.max())\n",
    "print(x_test.min())"
   ]
  },
  {
   "cell_type": "code",
   "execution_count": 18,
   "metadata": {},
   "outputs": [],
   "source": [
    "# Se normalizan los datos de entrenamiento y los de pruebas:\n",
    "x_train = x_train.astype(\"float32\")/255.0\n",
    "x_test = x_test.astype(\"float32\")/255.0"
   ]
  },
  {
   "cell_type": "code",
   "execution_count": 19,
   "metadata": {},
   "outputs": [
    {
     "name": "stdout",
     "output_type": "stream",
     "text": [
      "1.0\n",
      "0.0\n",
      "1.0\n",
      "0.003921569\n"
     ]
    }
   ],
   "source": [
    "# Se revisa los valores Maximos y Minimos despues de Normalizar\n",
    "print(x_train.max())\n",
    "print(x_train.min())\n",
    "print(x_test.max())\n",
    "print(x_test.min())"
   ]
  },
  {
   "cell_type": "code",
   "execution_count": 20,
   "metadata": {},
   "outputs": [],
   "source": [
    "# Se reconstruyen los datos de entrenamiento para que puedan ingresar a la red neuronal\n",
    "x_train = x_train.reshape(x_train.shape[0], 320, 240, 1)\n",
    "x_test = x_test.reshape(x_test.shape[0], 320, 240, 1)"
   ]
  },
  {
   "cell_type": "markdown",
   "metadata": {},
   "source": [
    "## Cargue del modelo con los pesos"
   ]
  },
  {
   "cell_type": "code",
   "execution_count": 21,
   "metadata": {},
   "outputs": [
    {
     "name": "stderr",
     "output_type": "stream",
     "text": [
      "WARNING: Logging before flag parsing goes to stderr.\n",
      "W0105 13:15:43.803414 10156 deprecation_wrapper.py:119] From C:\\Users\\ortiz\\Anaconda3\\lib\\site-packages\\keras\\backend\\tensorflow_backend.py:517: The name tf.placeholder is deprecated. Please use tf.compat.v1.placeholder instead.\n",
      "\n",
      "W0105 13:15:44.323022 10156 deprecation_wrapper.py:119] From C:\\Users\\ortiz\\Anaconda3\\lib\\site-packages\\keras\\backend\\tensorflow_backend.py:4138: The name tf.random_uniform is deprecated. Please use tf.random.uniform instead.\n",
      "\n",
      "W0105 13:15:44.472376 10156 deprecation_wrapper.py:119] From C:\\Users\\ortiz\\Anaconda3\\lib\\site-packages\\keras\\backend\\tensorflow_backend.py:3976: The name tf.nn.max_pool is deprecated. Please use tf.nn.max_pool2d instead.\n",
      "\n",
      "W0105 13:15:44.801274 10156 deprecation_wrapper.py:119] From C:\\Users\\ortiz\\Anaconda3\\lib\\site-packages\\keras\\backend\\tensorflow_backend.py:174: The name tf.get_default_session is deprecated. Please use tf.compat.v1.get_default_session instead.\n",
      "\n",
      "W0105 13:15:44.802314 10156 deprecation_wrapper.py:119] From C:\\Users\\ortiz\\Anaconda3\\lib\\site-packages\\keras\\backend\\tensorflow_backend.py:181: The name tf.ConfigProto is deprecated. Please use tf.compat.v1.ConfigProto instead.\n",
      "\n",
      "W0105 13:15:44.805173 10156 deprecation_wrapper.py:119] From C:\\Users\\ortiz\\Anaconda3\\lib\\site-packages\\keras\\backend\\tensorflow_backend.py:186: The name tf.Session is deprecated. Please use tf.compat.v1.Session instead.\n",
      "\n"
     ]
    },
    {
     "name": "stdout",
     "output_type": "stream",
     "text": [
      "Loaded model from disk\n"
     ]
    }
   ],
   "source": [
    "# load json and create model\n",
    "json_file = open('model.json', 'r')\n",
    "loaded_model_json = json_file.read()\n",
    "json_file.close()\n",
    "loaded_model = model_from_json(loaded_model_json)\n",
    "# load weights into new model\n",
    "loaded_model.load_weights(\"model2020.h5\")\n",
    "print(\"Loaded model from disk\")"
   ]
  },
  {
   "cell_type": "code",
   "execution_count": 22,
   "metadata": {},
   "outputs": [
    {
     "name": "stdout",
     "output_type": "stream",
     "text": [
      "_________________________________________________________________\n",
      "Layer (type)                 Output Shape              Param #   \n",
      "=================================================================\n",
      "conv2d_1 (Conv2D)            (None, 318, 238, 25)      250       \n",
      "_________________________________________________________________\n",
      "max_pooling2d_1 (MaxPooling2 (None, 159, 119, 25)      0         \n",
      "_________________________________________________________________\n",
      "conv2d_2 (Conv2D)            (None, 157, 117, 25)      5650      \n",
      "_________________________________________________________________\n",
      "max_pooling2d_2 (MaxPooling2 (None, 78, 58, 25)        0         \n",
      "_________________________________________________________________\n",
      "flatten_1 (Flatten)          (None, 113100)            0         \n",
      "_________________________________________________________________\n",
      "dense_1 (Dense)              (None, 22)                2488222   \n",
      "=================================================================\n",
      "Total params: 2,494,122\n",
      "Trainable params: 2,494,122\n",
      "Non-trainable params: 0\n",
      "_________________________________________________________________\n"
     ]
    }
   ],
   "source": [
    "loaded_model.summary()"
   ]
  },
  {
   "cell_type": "code",
   "execution_count": 23,
   "metadata": {},
   "outputs": [
    {
     "data": {
      "text/plain": [
       "keras.engine.sequential.Sequential"
      ]
     },
     "execution_count": 23,
     "metadata": {},
     "output_type": "execute_result"
    }
   ],
   "source": [
    "type(loaded_model)"
   ]
  },
  {
   "cell_type": "markdown",
   "metadata": {},
   "source": [
    "### Se define la capa de salida"
   ]
  },
  {
   "cell_type": "code",
   "execution_count": 24,
   "metadata": {},
   "outputs": [
    {
     "data": {
      "text/plain": [
       "tensorflow.python.framework.ops.Tensor"
      ]
     },
     "execution_count": 24,
     "metadata": {},
     "output_type": "execute_result"
    }
   ],
   "source": [
    "my_model = loaded_model.layers[3].output\n",
    "type(my_model)"
   ]
  },
  {
   "cell_type": "markdown",
   "metadata": {},
   "source": [
    "### Se agregan las capas adicionales a entrenar"
   ]
  },
  {
   "cell_type": "code",
   "execution_count": 29,
   "metadata": {},
   "outputs": [],
   "source": [
    "## Se agregan las capas adicionales con Dropout\n",
    "ll = (Conv2D(25, kernel_size=3, activation='tanh',name='conv2d_3'))(my_model)"
   ]
  },
  {
   "cell_type": "code",
   "execution_count": 30,
   "metadata": {},
   "outputs": [],
   "source": [
    "ll = (MaxPool2D(2))(ll)\n",
    "ll = (Conv2D(25, kernel_size=3, activation='tanh',name='conv2d_4'))(ll)\n",
    "ll = (MaxPool2D(2))(ll)\n",
    "ll = (Conv2D(25, kernel_size=3, activation='tanh',name='conv2d_5'))(ll)\n",
    "ll = (MaxPool2D(2))(ll)\n",
    "ll = (Conv2D(25, kernel_size=3, activation='tanh',name='conv2d_6'))(ll)\n",
    "ll = (MaxPool2D(2))(ll)\n",
    "ll = Flatten()(ll)\n",
    "ll = Dropout(rate=0.2)(ll)\n",
    "ll = Dense(22,activation=\"softmax\")(ll)"
   ]
  },
  {
   "cell_type": "code",
   "execution_count": 27,
   "metadata": {},
   "outputs": [
    {
     "data": {
      "text/plain": [
       "tensorflow.python.framework.ops.Tensor"
      ]
     },
     "execution_count": 27,
     "metadata": {},
     "output_type": "execute_result"
    }
   ],
   "source": [
    "type(ll)"
   ]
  },
  {
   "cell_type": "markdown",
   "metadata": {},
   "source": [
    "### Se construye el nuevo modelo que usara Transfer Learning"
   ]
  },
  {
   "cell_type": "code",
   "execution_count": 31,
   "metadata": {},
   "outputs": [],
   "source": [
    "new_model = Model(inputs=loaded_model.input,outputs=ll, name='new_model')"
   ]
  },
  {
   "cell_type": "code",
   "execution_count": 32,
   "metadata": {},
   "outputs": [],
   "source": [
    "# Se configura las siguientes capas para que no sean entrenables\n",
    "new_model.get_layer('conv2d_1').trainable = False\n",
    "new_model.get_layer('max_pooling2d_1').trainable = False\n",
    "new_model.get_layer('conv2d_2').trainable = False\n",
    "new_model.get_layer('max_pooling2d_2').trainable = False"
   ]
  },
  {
   "cell_type": "code",
   "execution_count": 33,
   "metadata": {},
   "outputs": [
    {
     "data": {
      "text/plain": [
       "keras.engine.training.Model"
      ]
     },
     "execution_count": 33,
     "metadata": {},
     "output_type": "execute_result"
    }
   ],
   "source": [
    "type(new_model)"
   ]
  },
  {
   "cell_type": "code",
   "execution_count": 34,
   "metadata": {},
   "outputs": [],
   "source": [
    "config = new_model.get_config()"
   ]
  },
  {
   "cell_type": "code",
   "execution_count": 35,
   "metadata": {},
   "outputs": [],
   "source": [
    "new_model = Sequential.from_config(config)"
   ]
  },
  {
   "cell_type": "code",
   "execution_count": 36,
   "metadata": {},
   "outputs": [
    {
     "data": {
      "text/plain": [
       "keras.engine.sequential.Sequential"
      ]
     },
     "execution_count": 36,
     "metadata": {},
     "output_type": "execute_result"
    }
   ],
   "source": [
    "type(new_model)"
   ]
  },
  {
   "cell_type": "code",
   "execution_count": 37,
   "metadata": {},
   "outputs": [
    {
     "name": "stdout",
     "output_type": "stream",
     "text": [
      "_________________________________________________________________\n",
      "Layer (type)                 Output Shape              Param #   \n",
      "=================================================================\n",
      "conv2d_1 (Conv2D)            (None, 318, 238, 25)      250       \n",
      "_________________________________________________________________\n",
      "max_pooling2d_1 (MaxPooling2 (None, 159, 119, 25)      0         \n",
      "_________________________________________________________________\n",
      "conv2d_2 (Conv2D)            (None, 157, 117, 25)      5650      \n",
      "_________________________________________________________________\n",
      "max_pooling2d_2 (MaxPooling2 (None, 78, 58, 25)        0         \n",
      "_________________________________________________________________\n",
      "conv2d_3 (Conv2D)            (None, 76, 56, 25)        5650      \n",
      "_________________________________________________________________\n",
      "max_pooling2d_5 (MaxPooling2 (None, 38, 28, 25)        0         \n",
      "_________________________________________________________________\n",
      "conv2d_4 (Conv2D)            (None, 36, 26, 25)        5650      \n",
      "_________________________________________________________________\n",
      "max_pooling2d_6 (MaxPooling2 (None, 18, 13, 25)        0         \n",
      "_________________________________________________________________\n",
      "conv2d_5 (Conv2D)            (None, 16, 11, 25)        5650      \n",
      "_________________________________________________________________\n",
      "max_pooling2d_7 (MaxPooling2 (None, 8, 5, 25)          0         \n",
      "_________________________________________________________________\n",
      "conv2d_6 (Conv2D)            (None, 6, 3, 25)          5650      \n",
      "_________________________________________________________________\n",
      "max_pooling2d_8 (MaxPooling2 (None, 3, 1, 25)          0         \n",
      "_________________________________________________________________\n",
      "flatten_2 (Flatten)          (None, 75)                0         \n",
      "_________________________________________________________________\n",
      "dropout_2 (Dropout)          (None, 75)                0         \n",
      "_________________________________________________________________\n",
      "dense_2 (Dense)              (None, 22)                1672      \n",
      "=================================================================\n",
      "Total params: 30,172\n",
      "Trainable params: 24,272\n",
      "Non-trainable params: 5,900\n",
      "_________________________________________________________________\n"
     ]
    }
   ],
   "source": [
    "new_model.summary()"
   ]
  },
  {
   "cell_type": "code",
   "execution_count": 38,
   "metadata": {},
   "outputs": [],
   "source": [
    "new_model.load_weights('model2020.h5',by_name=True)"
   ]
  },
  {
   "cell_type": "code",
   "execution_count": 39,
   "metadata": {},
   "outputs": [],
   "source": [
    "weights_list = new_model.get_weights()"
   ]
  },
  {
   "cell_type": "code",
   "execution_count": 40,
   "metadata": {},
   "outputs": [
    {
     "data": {
      "text/plain": [
       "[array([[[[ 0.06135134, -0.04645087,  0.08191126,  0.06364413,\n",
       "           -0.1574563 , -0.07324756, -0.01519019,  0.16661727,\n",
       "            0.00063065,  0.03318297,  0.09736481, -0.09019747,\n",
       "           -0.09985278, -0.12062509, -0.09749316,  0.1457839 ,\n",
       "            0.13113378,  0.03070403, -0.13226564,  0.10221913,\n",
       "            0.05783549,  0.09747195,  0.06419395,  0.0154875 ,\n",
       "           -0.12596136]],\n",
       " \n",
       "         [[-0.15255508,  0.1207339 ,  0.03175943,  0.09599619,\n",
       "            0.02970693, -0.10560358,  0.01754346, -0.12288474,\n",
       "            0.03289627, -0.11963216,  0.07482285,  0.14201668,\n",
       "            0.10007585, -0.08426806, -0.05607234,  0.13952875,\n",
       "           -0.15616636, -0.10531943,  0.0653195 , -0.09870482,\n",
       "            0.02231824, -0.1186026 , -0.1409325 , -0.12905636,\n",
       "           -0.01378456]],\n",
       " \n",
       "         [[-0.0640181 , -0.03517393, -0.1379925 ,  0.04984492,\n",
       "            0.13315426,  0.03663911, -0.11799006, -0.12068885,\n",
       "           -0.04691825, -0.02143598,  0.10781409, -0.06794622,\n",
       "            0.064147  ,  0.0290661 , -0.07574855,  0.0641652 ,\n",
       "            0.01965145,  0.1249779 ,  0.09287859,  0.11338639,\n",
       "            0.0220572 , -0.12900652, -0.12698096, -0.02704147,\n",
       "           -0.08089494]]],\n",
       " \n",
       " \n",
       "        [[[-0.02932844,  0.07675339,  0.04517434, -0.01453379,\n",
       "            0.14747345, -0.08893269,  0.11578593,  0.04413169,\n",
       "           -0.02144612, -0.05762922,  0.05214087, -0.01037521,\n",
       "            0.13529521,  0.0064135 ,  0.04674461,  0.07493554,\n",
       "           -0.07013958,  0.04728338,  0.0137091 , -0.09576172,\n",
       "            0.04734599, -0.02913684, -0.14656001, -0.0476898 ,\n",
       "           -0.1541173 ]],\n",
       " \n",
       "         [[-0.09880382,  0.02803566, -0.15010922, -0.12954217,\n",
       "            0.06391517, -0.10673811,  0.1585972 ,  0.07366086,\n",
       "           -0.09272212,  0.06508098,  0.03770991,  0.07856746,\n",
       "            0.15351567, -0.06400821, -0.05226862,  0.07794945,\n",
       "           -0.01462478, -0.0677072 ,  0.08498099, -0.12433537,\n",
       "           -0.14466867, -0.02183114, -0.15134405, -0.09495412,\n",
       "            0.13765275]],\n",
       " \n",
       "         [[ 0.06697302,  0.07627402,  0.11945487, -0.07426666,\n",
       "           -0.09132426, -0.10149239, -0.11515892, -0.14535478,\n",
       "           -0.11626592,  0.07780575,  0.00784202,  0.12069109,\n",
       "            0.06255557,  0.13089415,  0.14322972,  0.06952316,\n",
       "           -0.00350438, -0.11501885,  0.07161018,  0.04893114,\n",
       "            0.14303735, -0.01096588, -0.02323928,  0.00821831,\n",
       "            0.0234188 ]]],\n",
       " \n",
       " \n",
       "        [[[-0.05445613,  0.02473081, -0.06626866,  0.07944787,\n",
       "            0.12715754,  0.04759126, -0.13465707, -0.05980517,\n",
       "           -0.12153609,  0.02811826, -0.15583386, -0.0723128 ,\n",
       "            0.07113077,  0.06635492,  0.08134624, -0.16838826,\n",
       "            0.03468946,  0.11453472, -0.02470238, -0.11122932,\n",
       "            0.1365189 ,  0.10646018,  0.08629545, -0.10861219,\n",
       "           -0.13955578]],\n",
       " \n",
       "         [[ 0.07516038, -0.0120233 ,  0.05983229,  0.14141382,\n",
       "            0.02868485, -0.03248648, -0.07144244, -0.0825012 ,\n",
       "            0.0505489 , -0.04022905, -0.05267802, -0.07468604,\n",
       "           -0.16555421,  0.04301111,  0.00636084, -0.10272881,\n",
       "           -0.15915982,  0.07731896, -0.02655449,  0.11122423,\n",
       "            0.11836829,  0.02885531, -0.14688237,  0.06401849,\n",
       "            0.15114994]],\n",
       " \n",
       "         [[ 0.12733546,  0.09530621, -0.03325522, -0.02240804,\n",
       "           -0.01352599, -0.01941426,  0.05117913,  0.15827063,\n",
       "           -0.01597637, -0.15739013,  0.09010823,  0.0670699 ,\n",
       "           -0.13930103,  0.00386447,  0.04221079, -0.01495427,\n",
       "            0.14610115, -0.153199  ,  0.15768375,  0.06008284,\n",
       "            0.10970962,  0.07090421,  0.07711437, -0.06047072,\n",
       "            0.16111428]]]], dtype=float32),\n",
       " array([-1.9105340e-03, -7.0108669e-03,  3.4336795e-03, -5.0219158e-03,\n",
       "        -8.7564159e-03,  4.6916036e-03,  1.1670421e-02,  1.3862120e-02,\n",
       "         1.3147265e-02, -2.8759278e-03, -9.8121157e-03, -5.4444773e-03,\n",
       "        -1.3092299e-02,  5.8914837e-03,  2.9260677e-03, -1.8116903e-02,\n",
       "        -6.1622150e-03, -3.8663219e-03, -5.0508137e-05, -2.4256771e-03,\n",
       "        -1.1966277e-02, -1.1025229e-02,  3.3571580e-03,  1.1274331e-02,\n",
       "        -7.4286801e-03], dtype=float32),\n",
       " array([[[[-0.02189218,  0.02589507, -0.02454119, ..., -0.0602021 ,\n",
       "            0.02918125,  0.07154193],\n",
       "          [-0.10428036, -0.03222472, -0.02302256, ...,  0.00024412,\n",
       "           -0.01167305,  0.10670889],\n",
       "          [ 0.08291195,  0.02501417, -0.05999135, ...,  0.06100976,\n",
       "           -0.03085049, -0.00942312],\n",
       "          ...,\n",
       "          [-0.0402577 ,  0.00500296, -0.08412582, ..., -0.10078463,\n",
       "           -0.01429853,  0.03879022],\n",
       "          [ 0.10710432,  0.04212552,  0.03789651, ...,  0.10763466,\n",
       "            0.04084025,  0.10771488],\n",
       "          [-0.00557278,  0.0622225 , -0.09095083, ...,  0.09122735,\n",
       "           -0.0178363 ,  0.05252114]],\n",
       " \n",
       "         [[ 0.03845432,  0.05820983, -0.11754672, ..., -0.01843665,\n",
       "            0.00205379, -0.00670102],\n",
       "          [ 0.09735337, -0.0813695 ,  0.05958509, ...,  0.0629857 ,\n",
       "           -0.08634747,  0.05113606],\n",
       "          [-0.03129073,  0.0622062 ,  0.04696427, ..., -0.00515149,\n",
       "            0.10432982,  0.07669496],\n",
       "          ...,\n",
       "          [ 0.11074845,  0.01662105,  0.03198523, ..., -0.04102355,\n",
       "           -0.08712047,  0.10464329],\n",
       "          [-0.09051695,  0.07080711,  0.01443082, ..., -0.04514483,\n",
       "           -0.04904582, -0.03825362],\n",
       "          [-0.06727951,  0.02382235, -0.09321136, ...,  0.039714  ,\n",
       "           -0.05146932,  0.08161898]],\n",
       " \n",
       "         [[ 0.12248721,  0.08504893,  0.0274682 , ...,  0.08475085,\n",
       "            0.10055921,  0.12346161],\n",
       "          [ 0.0475949 , -0.00434322,  0.09306373, ...,  0.045588  ,\n",
       "           -0.07299166, -0.01382635],\n",
       "          [ 0.01259502, -0.02362547, -0.06622209, ...,  0.1080606 ,\n",
       "           -0.07158053, -0.0651485 ],\n",
       "          ...,\n",
       "          [-0.04405993, -0.1139344 ,  0.08216446, ...,  0.00705126,\n",
       "           -0.06353935, -0.09715512],\n",
       "          [-0.07480396,  0.06642111, -0.03423082, ...,  0.00504064,\n",
       "            0.1163927 , -0.02338962],\n",
       "          [-0.07224213,  0.04370946, -0.09984765, ...,  0.05452132,\n",
       "           -0.04141097,  0.0360724 ]]],\n",
       " \n",
       " \n",
       "        [[[-0.09275695,  0.02557099, -0.08642758, ...,  0.08666994,\n",
       "           -0.03287252, -0.06091387],\n",
       "          [-0.07081141,  0.06430045, -0.09299341, ..., -0.09607087,\n",
       "            0.00470329,  0.0187012 ],\n",
       "          [-0.0689921 ,  0.02510056, -0.07731233, ...,  0.03718465,\n",
       "           -0.01275477, -0.0537179 ],\n",
       "          ...,\n",
       "          [-0.02993228, -0.06445444,  0.00589485, ..., -0.03236089,\n",
       "           -0.01922725,  0.05043622],\n",
       "          [ 0.02973733,  0.08092625, -0.06397677, ..., -0.09446377,\n",
       "            0.02423562,  0.03970508],\n",
       "          [-0.1243111 , -0.10824616,  0.03436053, ..., -0.05112165,\n",
       "           -0.02164966,  0.01658169]],\n",
       " \n",
       "         [[ 0.09602701, -0.10838433, -0.04431257, ..., -0.03273839,\n",
       "           -0.11305594, -0.06596661],\n",
       "          [ 0.02368053,  0.11221469, -0.05950784, ..., -0.08821563,\n",
       "           -0.06747645,  0.04954786],\n",
       "          [-0.00684654,  0.07528624,  0.03654812, ...,  0.0070059 ,\n",
       "           -0.05580371, -0.10722724],\n",
       "          ...,\n",
       "          [ 0.02486537, -0.07910823,  0.05946045, ...,  0.05890401,\n",
       "           -0.02393802,  0.10225916],\n",
       "          [ 0.04545197,  0.0834085 ,  0.06160787, ..., -0.02718066,\n",
       "           -0.10615427,  0.05271851],\n",
       "          [ 0.00367734,  0.05329532, -0.04662833, ...,  0.02898387,\n",
       "            0.01372335, -0.12278308]],\n",
       " \n",
       "         [[ 0.01174994, -0.00703978, -0.1023354 , ...,  0.00432334,\n",
       "            0.03997429,  0.05604415],\n",
       "          [ 0.10165981, -0.00726433,  0.00960089, ...,  0.00321483,\n",
       "            0.05177866,  0.11971258],\n",
       "          [ 0.04453528,  0.06421476,  0.09163924, ...,  0.018897  ,\n",
       "           -0.08532003,  0.0034926 ],\n",
       "          ...,\n",
       "          [ 0.10579684,  0.0827483 , -0.05896072, ..., -0.03629666,\n",
       "           -0.00844139,  0.0630855 ],\n",
       "          [ 0.08187936,  0.04547446,  0.0417853 , ..., -0.05722136,\n",
       "           -0.08880132,  0.02636012],\n",
       "          [-0.10811424,  0.06813382, -0.04306224, ...,  0.03217497,\n",
       "            0.10175373,  0.08112997]]],\n",
       " \n",
       " \n",
       "        [[[ 0.06594186,  0.10361812, -0.03242578, ...,  0.10925175,\n",
       "           -0.07568802, -0.0221681 ],\n",
       "          [ 0.10871608, -0.02560415,  0.078314  , ...,  0.09222665,\n",
       "           -0.01608819,  0.06789991],\n",
       "          [ 0.0560114 ,  0.04558075,  0.10835858, ..., -0.04954304,\n",
       "            0.04018473,  0.10576418],\n",
       "          ...,\n",
       "          [ 0.10308038, -0.07571714, -0.03753513, ...,  0.0421294 ,\n",
       "            0.03269885,  0.05856374],\n",
       "          [ 0.05760273,  0.09259776, -0.11193847, ...,  0.1142356 ,\n",
       "           -0.08714086,  0.09731651],\n",
       "          [ 0.05649331, -0.08874813, -0.0249586 , ..., -0.07347114,\n",
       "           -0.02421832, -0.03620584]],\n",
       " \n",
       "         [[ 0.12076258,  0.04568214, -0.09153406, ...,  0.00358201,\n",
       "            0.00261844, -0.01582633],\n",
       "          [ 0.07550374,  0.05152701, -0.0083595 , ..., -0.05016232,\n",
       "            0.04273551,  0.0888402 ],\n",
       "          [ 0.08187777,  0.00165833,  0.09753126, ...,  0.04586557,\n",
       "            0.05442514, -0.07457343],\n",
       "          ...,\n",
       "          [-0.05981041, -0.08403986,  0.11036261, ..., -0.06327741,\n",
       "           -0.047573  ,  0.06679784],\n",
       "          [ 0.05564145, -0.11369537,  0.00724308, ...,  0.1080884 ,\n",
       "            0.07936651,  0.03017379],\n",
       "          [ 0.11018321,  0.03731938, -0.02811749, ...,  0.02367601,\n",
       "            0.00638755,  0.08626965]],\n",
       " \n",
       "         [[ 0.03001442,  0.10458194, -0.10291152, ..., -0.06510133,\n",
       "            0.05508034,  0.01110703],\n",
       "          [-0.10687615,  0.03067302,  0.09233089, ..., -0.02341262,\n",
       "            0.00232261, -0.042351  ],\n",
       "          [-0.02163318, -0.01702242, -0.02979103, ...,  0.08846443,\n",
       "            0.05569121, -0.01862685],\n",
       "          ...,\n",
       "          [ 0.09396495, -0.01179348, -0.06562592, ..., -0.02859582,\n",
       "           -0.02237458, -0.05463884],\n",
       "          [-0.00057738, -0.01620661,  0.01410459, ...,  0.02948982,\n",
       "           -0.10588709,  0.04461434],\n",
       "          [-0.0732983 ,  0.12298114, -0.08263061, ...,  0.02863114,\n",
       "            0.00017291, -0.0848057 ]]]], dtype=float32),\n",
       " array([ 5.2585974e-03,  6.9987681e-03,  3.4329859e-03, -4.6408148e-03,\n",
       "         6.4479946e-03, -7.5412972e-06, -6.7572151e-03, -8.4104249e-04,\n",
       "        -9.4041945e-03, -2.1534567e-03, -6.8732337e-03, -5.2400613e-03,\n",
       "        -1.0992214e-02, -4.8709060e-03, -4.8423554e-03,  4.1967751e-03,\n",
       "        -3.8543865e-03, -1.5377140e-03, -4.5163292e-03,  7.2810785e-03,\n",
       "        -7.9361117e-03, -2.4649925e-03, -7.9251435e-03,  1.5915825e-03,\n",
       "         7.7497498e-03], dtype=float32),\n",
       " array([[[[-7.57661015e-02, -4.92019281e-02,  9.73401666e-02, ...,\n",
       "            4.03453559e-02,  1.76158398e-02, -3.44870985e-03],\n",
       "          [-8.94139707e-03, -6.61564320e-02, -4.27324697e-02, ...,\n",
       "            6.04086220e-02,  8.11766684e-02, -1.05699718e-01],\n",
       "          [ 3.27786952e-02,  8.05747956e-02, -2.87156850e-02, ...,\n",
       "            1.74274147e-02, -4.28333879e-05, -2.64302939e-02],\n",
       "          ...,\n",
       "          [-1.09332718e-01, -3.50321010e-02, -8.21635425e-02, ...,\n",
       "           -6.23322278e-03,  1.05975881e-01,  6.44663274e-02],\n",
       "          [-4.50907350e-02, -9.26005468e-02,  7.06072748e-02, ...,\n",
       "           -1.32906735e-02, -8.72511268e-02,  3.64265144e-02],\n",
       "          [ 9.36871022e-02, -1.12333946e-01,  8.78692269e-02, ...,\n",
       "           -6.74490631e-02,  9.04402882e-03, -5.07012755e-03]],\n",
       " \n",
       "         [[ 3.63831520e-02,  1.08749509e-01, -6.60595000e-02, ...,\n",
       "            4.63244915e-02, -6.98713958e-03, -8.58640969e-02],\n",
       "          [-2.12386176e-02,  6.68632388e-02,  4.86852378e-02, ...,\n",
       "            1.12743124e-01,  9.14441049e-02,  7.41619617e-03],\n",
       "          [-4.17463109e-02,  7.75473565e-02, -9.40497071e-02, ...,\n",
       "           -4.89001125e-02,  4.68469411e-02,  9.40376222e-02],\n",
       "          ...,\n",
       "          [-4.11242917e-02,  9.71378833e-02, -4.17836756e-03, ...,\n",
       "            7.58226812e-02,  6.59327507e-02,  5.09394705e-02],\n",
       "          [ 4.29146588e-02,  4.46344167e-03, -7.69487172e-02, ...,\n",
       "            2.58874446e-02,  9.64644849e-02, -3.39891464e-02],\n",
       "          [ 3.06459963e-02, -8.96863341e-02, -2.47951895e-02, ...,\n",
       "           -9.10855830e-02, -1.11564562e-01, -6.66194409e-02]],\n",
       " \n",
       "         [[ 1.14988744e-01, -5.71079142e-02,  5.14151305e-02, ...,\n",
       "           -1.11068055e-01, -7.78522566e-02, -4.37318385e-02],\n",
       "          [ 2.31586248e-02, -5.06047606e-02,  6.62905276e-02, ...,\n",
       "           -1.68200508e-02, -1.03160441e-01,  1.57354623e-02],\n",
       "          [-7.01995790e-02, -4.82557714e-02,  7.74469078e-02, ...,\n",
       "           -4.98632565e-02, -7.40684718e-02, -3.27680781e-02],\n",
       "          ...,\n",
       "          [-3.19701657e-02, -7.99871087e-02,  3.19332182e-02, ...,\n",
       "           -6.99529052e-03,  4.15500253e-02, -1.06779918e-01],\n",
       "          [ 1.86517388e-02, -5.33068739e-02,  9.89721119e-02, ...,\n",
       "            8.18190873e-02, -4.93259802e-02,  7.12468177e-02],\n",
       "          [ 1.72721148e-02, -4.87577543e-02, -6.94606602e-02, ...,\n",
       "           -7.97029436e-02, -6.90061450e-02, -8.49762484e-02]]],\n",
       " \n",
       " \n",
       "        [[[-7.78787136e-02, -4.96087447e-02,  9.91878361e-02, ...,\n",
       "           -7.72880763e-02,  6.65136427e-02, -1.06548809e-01],\n",
       "          [ 8.37006420e-02, -5.06559610e-02,  1.72421187e-02, ...,\n",
       "           -8.40995461e-02, -6.66456670e-03,  3.97597551e-02],\n",
       "          [ 9.93276387e-02, -3.20609882e-02, -1.96178332e-02, ...,\n",
       "            6.63077980e-02,  8.75979215e-02, -6.90772235e-02],\n",
       "          ...,\n",
       "          [ 9.00704116e-02, -9.16514695e-02,  8.70256722e-02, ...,\n",
       "           -8.19805488e-02, -3.86016145e-02,  8.31255019e-02],\n",
       "          [ 7.23727047e-02,  7.98925459e-02, -1.03113562e-01, ...,\n",
       "            1.55955553e-02,  8.76615644e-02, -2.94353068e-03],\n",
       "          [ 1.14829808e-01, -8.10687467e-02, -8.20320025e-02, ...,\n",
       "           -9.47357863e-02,  1.03797242e-01,  4.41107899e-03]],\n",
       " \n",
       "         [[ 7.08549321e-02, -5.41994050e-02, -5.86083382e-02, ...,\n",
       "            3.71503383e-02, -5.63816428e-02,  5.68186790e-02],\n",
       "          [ 8.04581493e-02, -9.59802866e-02, -1.21589079e-02, ...,\n",
       "            6.32164776e-02,  5.75311631e-02,  5.99695742e-02],\n",
       "          [ 4.46198881e-02,  8.32957476e-02, -7.68235326e-02, ...,\n",
       "           -5.20905629e-02, -6.17955402e-02, -1.09038614e-01],\n",
       "          ...,\n",
       "          [-6.69066012e-02, -6.46228343e-02, -5.06477877e-02, ...,\n",
       "            3.56469303e-03, -1.95382163e-02, -5.69572710e-02],\n",
       "          [-1.07121848e-01,  4.23852354e-03, -6.65095598e-02, ...,\n",
       "           -9.55858678e-02,  3.99534106e-02,  1.06357187e-02],\n",
       "          [-5.64731248e-02,  1.16192847e-02, -1.15476027e-02, ...,\n",
       "            7.73268938e-02, -4.36886176e-02, -6.64923862e-02]],\n",
       " \n",
       "         [[-1.41136348e-02, -7.86598548e-02, -2.17468217e-02, ...,\n",
       "           -7.78360963e-02,  1.13383040e-01, -6.45341277e-02],\n",
       "          [-1.15040332e-01, -4.52682748e-02,  1.62627250e-02, ...,\n",
       "           -8.50835592e-02, -7.21069500e-02,  5.96078485e-02],\n",
       "          [-8.16146433e-02, -5.93767911e-02,  3.23438048e-02, ...,\n",
       "            7.10524023e-02,  1.19414479e-02,  9.30193663e-02],\n",
       "          ...,\n",
       "          [-8.46871808e-02, -1.90422013e-02,  1.12536520e-01, ...,\n",
       "            1.87356770e-03, -6.71795607e-02,  5.47918230e-02],\n",
       "          [-8.51222947e-02, -1.05985150e-01, -7.28070959e-02, ...,\n",
       "           -8.79510492e-02, -2.67833471e-03, -2.03077644e-02],\n",
       "          [-9.56268609e-02, -5.08440509e-02,  3.58448029e-02, ...,\n",
       "           -6.92189485e-02,  4.50391471e-02,  5.72386235e-02]]],\n",
       " \n",
       " \n",
       "        [[[-6.69186860e-02, -7.57727921e-02,  9.47840512e-03, ...,\n",
       "            9.08603817e-02, -6.75363541e-02,  5.47831506e-03],\n",
       "          [-5.93729354e-02,  3.67372185e-02,  9.63304490e-02, ...,\n",
       "            1.37519389e-02, -9.05023590e-02, -4.90290672e-02],\n",
       "          [ 5.01207709e-02,  9.47221369e-02, -3.90535593e-03, ...,\n",
       "           -1.83443651e-02,  1.85680389e-03, -9.68656912e-02],\n",
       "          ...,\n",
       "          [-4.06839997e-02,  6.84294403e-02,  1.81374997e-02, ...,\n",
       "            3.21500748e-03, -7.10341781e-02,  5.50263226e-02],\n",
       "          [-3.00313532e-03,  4.24568355e-02,  1.00077286e-01, ...,\n",
       "            1.03722140e-01,  7.09906518e-02,  4.45280373e-02],\n",
       "          [-1.07112899e-02,  5.27951717e-02,  4.52221930e-02, ...,\n",
       "           -6.72646314e-02,  4.75948602e-02,  2.49208361e-02]],\n",
       " \n",
       "         [[-7.46270865e-02, -7.87058622e-02, -9.72197279e-02, ...,\n",
       "           -1.85586363e-02,  6.60527050e-02,  4.54179496e-02],\n",
       "          [-4.47841808e-02,  8.42498690e-02,  1.04763418e-01, ...,\n",
       "            7.07149059e-02, -5.43787628e-02,  1.09495178e-01],\n",
       "          [-4.39703092e-02,  1.11413151e-02,  4.49108332e-03, ...,\n",
       "            7.69391954e-02,  5.73281348e-02, -1.94380879e-02],\n",
       "          ...,\n",
       "          [ 8.82543027e-02,  8.57148767e-02,  1.62473917e-02, ...,\n",
       "           -4.66625392e-02, -2.76364759e-02, -5.03265932e-02],\n",
       "          [-6.04864210e-02, -7.07176626e-02,  8.84500891e-02, ...,\n",
       "           -1.34620070e-03,  2.88280398e-02, -6.43471479e-02],\n",
       "          [-5.45678400e-02,  2.23031789e-02, -1.05798252e-01, ...,\n",
       "            8.49724263e-02,  9.73916203e-02, -3.55297700e-02]],\n",
       " \n",
       "         [[-3.12191695e-02,  8.88912082e-02, -9.56970006e-02, ...,\n",
       "           -1.00533180e-01,  3.48860025e-02,  4.85427231e-02],\n",
       "          [ 1.99769586e-02,  4.00853902e-02,  6.24604225e-02, ...,\n",
       "           -5.65299168e-02,  5.95533699e-02,  7.52364248e-02],\n",
       "          [ 1.04839325e-01, -1.54386386e-02,  9.49044675e-02, ...,\n",
       "            3.58895808e-02, -5.94622716e-02, -1.13837674e-01],\n",
       "          ...,\n",
       "          [-7.27205127e-02,  1.00379899e-01,  6.43485487e-02, ...,\n",
       "            6.99414164e-02, -6.33424073e-02,  8.88852924e-02],\n",
       "          [ 5.16531020e-02,  8.97123516e-02, -1.01419762e-01, ...,\n",
       "           -3.24640572e-02, -2.77383029e-02,  1.10576168e-01],\n",
       "          [ 3.44824046e-02, -5.49381487e-02,  2.58864611e-02, ...,\n",
       "           -7.41469413e-02,  1.14519730e-01,  8.68693292e-02]]]],\n",
       "       dtype=float32),\n",
       " array([0., 0., 0., 0., 0., 0., 0., 0., 0., 0., 0., 0., 0., 0., 0., 0., 0.,\n",
       "        0., 0., 0., 0., 0., 0., 0., 0.], dtype=float32),\n",
       " array([[[[ 0.06392583, -0.09172302, -0.04267573, ..., -0.09443717,\n",
       "           -0.02670306, -0.07376132],\n",
       "          [ 0.10988158, -0.105499  ,  0.08655494, ..., -0.00857802,\n",
       "            0.06303206,  0.06783088],\n",
       "          [ 0.05150491, -0.02067273,  0.05490597, ..., -0.0642572 ,\n",
       "            0.04618971,  0.08805779],\n",
       "          ...,\n",
       "          [-0.03644322, -0.10370739, -0.03135154, ..., -0.05249928,\n",
       "           -0.08598583, -0.05629164],\n",
       "          [-0.06666525,  0.06114037,  0.00374281, ..., -0.03229709,\n",
       "           -0.08374944, -0.06344528],\n",
       "          [ 0.09844114,  0.03526385,  0.06205259, ...,  0.06317133,\n",
       "            0.00057203, -0.10883246]],\n",
       " \n",
       "         [[-0.02479731,  0.03400421,  0.10315296, ...,  0.04705325,\n",
       "            0.00086951,  0.05299476],\n",
       "          [ 0.02670279, -0.06842751,  0.04501866, ..., -0.08713205,\n",
       "            0.03756697,  0.01364915],\n",
       "          [-0.07253248, -0.08496873,  0.01124768, ..., -0.08771804,\n",
       "           -0.10198141, -0.04220438],\n",
       "          ...,\n",
       "          [ 0.07986912,  0.02206133, -0.1053317 , ...,  0.06216782,\n",
       "           -0.00678066, -0.03129218],\n",
       "          [-0.05018123, -0.07378015,  0.02288976, ..., -0.10175783,\n",
       "            0.06485024, -0.00300374],\n",
       "          [-0.10959844, -0.0415813 ,  0.07434133, ...,  0.00445012,\n",
       "            0.08243859,  0.02394326]],\n",
       " \n",
       "         [[ 0.00929163,  0.10061459, -0.06339303, ..., -0.00140393,\n",
       "            0.07279468,  0.04049349],\n",
       "          [-0.10935559, -0.06601138,  0.04341139, ...,  0.03353623,\n",
       "            0.08334032,  0.07347226],\n",
       "          [-0.02381671, -0.0328554 , -0.02610678, ...,  0.02637881,\n",
       "           -0.07932917,  0.01788299],\n",
       "          ...,\n",
       "          [-0.06148238, -0.04678043, -0.09280242, ...,  0.11416225,\n",
       "           -0.03995539,  0.1137912 ],\n",
       "          [ 0.02105816,  0.09798364, -0.00765158, ...,  0.1115642 ,\n",
       "            0.10814537, -0.07753949],\n",
       "          [-0.0322118 ,  0.1025085 ,  0.00083744, ...,  0.00520439,\n",
       "            0.0478061 ,  0.06930707]]],\n",
       " \n",
       " \n",
       "        [[[-0.04875608, -0.09738962, -0.05309836, ...,  0.11314133,\n",
       "            0.03007075, -0.04302068],\n",
       "          [ 0.07913572,  0.00592478,  0.0034968 , ...,  0.00501163,\n",
       "           -0.01165816, -0.07990331],\n",
       "          [-0.02474478,  0.02519077, -0.07162137, ...,  0.01105927,\n",
       "           -0.09363268,  0.10951555],\n",
       "          ...,\n",
       "          [-0.0900181 ,  0.07988134,  0.0181628 , ..., -0.05615058,\n",
       "            0.10256742, -0.06067891],\n",
       "          [-0.01052515,  0.11060037, -0.09548838, ..., -0.03807405,\n",
       "            0.02417882, -0.06204821],\n",
       "          [ 0.06282051, -0.06334029,  0.05113028, ..., -0.06670897,\n",
       "            0.09024088, -0.01214608]],\n",
       " \n",
       "         [[ 0.00994425,  0.01286569, -0.02136192, ...,  0.06721497,\n",
       "            0.09252813, -0.04150079],\n",
       "          [-0.01000178, -0.03569619, -0.08857051, ..., -0.01817219,\n",
       "           -0.05831525,  0.04813847],\n",
       "          [-0.02915044, -0.06037226, -0.03060833, ..., -0.01685853,\n",
       "            0.07659955, -0.04662934],\n",
       "          ...,\n",
       "          [ 0.09503664,  0.07825078, -0.09608568, ...,  0.02952841,\n",
       "            0.03983749, -0.0075805 ],\n",
       "          [-0.02436563,  0.07923323,  0.10287628, ..., -0.01287057,\n",
       "           -0.01972234, -0.11271428],\n",
       "          [-0.0297444 , -0.10250189,  0.03158653, ..., -0.07633127,\n",
       "           -0.07476309, -0.08516318]],\n",
       " \n",
       "         [[-0.04497791, -0.01421797,  0.02062458, ..., -0.07976833,\n",
       "           -0.07603218,  0.06008707],\n",
       "          [-0.08391815,  0.02984412,  0.08060913, ...,  0.02941272,\n",
       "           -0.05592596,  0.00472052],\n",
       "          [ 0.10313569, -0.02862431, -0.04823705, ..., -0.11262459,\n",
       "           -0.06171193,  0.11544195],\n",
       "          ...,\n",
       "          [-0.09077697,  0.00470637,  0.10774386, ..., -0.05188993,\n",
       "            0.03710152, -0.07401028],\n",
       "          [ 0.06888363, -0.00802206,  0.06896377, ..., -0.07594546,\n",
       "            0.01871423, -0.02256816],\n",
       "          [-0.05440734, -0.07644172, -0.1114115 , ..., -0.1073484 ,\n",
       "           -0.07691887, -0.09335063]]],\n",
       " \n",
       " \n",
       "        [[[-0.11535401, -0.03572485, -0.10832059, ..., -0.00203082,\n",
       "           -0.00473528,  0.0327825 ],\n",
       "          [-0.09866479,  0.06526864,  0.02491297, ...,  0.04427817,\n",
       "           -0.01203541,  0.07756999],\n",
       "          [-0.05086398,  0.03313467,  0.04201627, ..., -0.02952752,\n",
       "           -0.07120093, -0.07472248],\n",
       "          ...,\n",
       "          [ 0.05135344, -0.0743845 , -0.08944742, ..., -0.0570544 ,\n",
       "           -0.07861446,  0.08345215],\n",
       "          [-0.05112568,  0.01302011,  0.09206156, ..., -0.00685568,\n",
       "           -0.0647168 , -0.04544923],\n",
       "          [-0.03920494, -0.09577648, -0.04673088, ..., -0.04456053,\n",
       "           -0.01467093,  0.08530584]],\n",
       " \n",
       "         [[ 0.05000484,  0.02842703,  0.093859  , ..., -0.04975578,\n",
       "            0.10165903,  0.035152  ],\n",
       "          [-0.07085873,  0.08206613, -0.02106209, ...,  0.09167787,\n",
       "            0.02615714,  0.04788205],\n",
       "          [-0.0263022 ,  0.04278372,  0.03459863, ..., -0.07098171,\n",
       "            0.08230732, -0.04384284],\n",
       "          ...,\n",
       "          [ 0.08709183,  0.00966798,  0.07824139, ...,  0.08282952,\n",
       "            0.03770617, -0.06722849],\n",
       "          [ 0.05370162,  0.08520192, -0.10237014, ..., -0.0137164 ,\n",
       "           -0.07005429, -0.09140769],\n",
       "          [-0.10706948, -0.06434806, -0.08023612, ..., -0.07065187,\n",
       "            0.03796314, -0.06910346]],\n",
       " \n",
       "         [[ 0.07887793, -0.10786252, -0.10010318, ..., -0.00105052,\n",
       "            0.03945208, -0.01606102],\n",
       "          [-0.04935475, -0.09294902, -0.00663643, ..., -0.03241517,\n",
       "            0.03080919,  0.06394136],\n",
       "          [-0.00071265,  0.06553815,  0.05270256, ...,  0.02340123,\n",
       "           -0.03719025,  0.07024585],\n",
       "          ...,\n",
       "          [-0.03015207, -0.04412514, -0.02431231, ..., -0.07145825,\n",
       "            0.08404949, -0.00696583],\n",
       "          [-0.01763475,  0.00359831,  0.0634304 , ..., -0.00310348,\n",
       "            0.03438762, -0.00911822],\n",
       "          [ 0.02962466, -0.07609142, -0.04795795, ..., -0.06035502,\n",
       "           -0.04003065, -0.11391082]]]], dtype=float32),\n",
       " array([0., 0., 0., 0., 0., 0., 0., 0., 0., 0., 0., 0., 0., 0., 0., 0., 0.,\n",
       "        0., 0., 0., 0., 0., 0., 0., 0.], dtype=float32),\n",
       " array([[[[ 0.07803944,  0.10952714, -0.08294733, ...,  0.04672311,\n",
       "           -0.09485444,  0.07645157],\n",
       "          [-0.09817734, -0.06977636, -0.07503575, ..., -0.10508302,\n",
       "            0.10939862, -0.02803357],\n",
       "          [-0.07573986,  0.05306219,  0.06204361, ..., -0.02895093,\n",
       "            0.00974795,  0.03225169],\n",
       "          ...,\n",
       "          [ 0.08874351,  0.07560584,  0.04569381, ..., -0.03593644,\n",
       "            0.01832832, -0.05046892],\n",
       "          [-0.08032538, -0.08694923,  0.09282506, ..., -0.10584285,\n",
       "           -0.09604466,  0.00709607],\n",
       "          [-0.02053908, -0.1081738 ,  0.00540787, ..., -0.09259154,\n",
       "           -0.11265093, -0.06281507]],\n",
       " \n",
       "         [[ 0.00436937,  0.05854926,  0.11360559, ..., -0.03433108,\n",
       "            0.11345641, -0.00972491],\n",
       "          [-0.04814015, -0.03521653,  0.05100141, ...,  0.10673447,\n",
       "            0.04734926, -0.0938603 ],\n",
       "          [ 0.03750189, -0.06008008,  0.09530352, ..., -0.05774224,\n",
       "            0.08524312, -0.07847876],\n",
       "          ...,\n",
       "          [-0.00768038,  0.09068808,  0.02061801, ...,  0.10788642,\n",
       "           -0.10588568, -0.07660913],\n",
       "          [-0.03024303,  0.07719211,  0.07679364, ...,  0.0749319 ,\n",
       "            0.00736942, -0.03402687],\n",
       "          [ 0.0500637 ,  0.02600963,  0.09810372, ...,  0.07004838,\n",
       "           -0.06235479,  0.07524994]],\n",
       " \n",
       "         [[ 0.05255447, -0.0818321 , -0.0524699 , ...,  0.0899604 ,\n",
       "            0.01175623, -0.06783253],\n",
       "          [-0.0753421 , -0.07763386,  0.02624986, ..., -0.09218203,\n",
       "           -0.06580842,  0.04272109],\n",
       "          [ 0.09846681,  0.00040519, -0.09762423, ...,  0.05915058,\n",
       "           -0.08735555,  0.02571797],\n",
       "          ...,\n",
       "          [ 0.01213856, -0.07401207,  0.10091786, ...,  0.04029588,\n",
       "           -0.06148844,  0.09534651],\n",
       "          [ 0.01348925, -0.08285794,  0.0497182 , ..., -0.04081559,\n",
       "           -0.06240797,  0.10611364],\n",
       "          [-0.07523923, -0.04541931,  0.08461927, ..., -0.06751975,\n",
       "           -0.10556369,  0.00486252]]],\n",
       " \n",
       " \n",
       "        [[[ 0.11439586,  0.00445092,  0.01940282, ...,  0.0797952 ,\n",
       "            0.11199626, -0.04301724],\n",
       "          [-0.041126  ,  0.10294284, -0.00312939, ...,  0.00465164,\n",
       "            0.09575471, -0.05219405],\n",
       "          [-0.09737412,  0.10762639,  0.04539068, ..., -0.0371266 ,\n",
       "           -0.01012162, -0.04383299],\n",
       "          ...,\n",
       "          [-0.09880079, -0.07737232, -0.04810656, ...,  0.03297485,\n",
       "            0.02954726, -0.04991336],\n",
       "          [ 0.0254097 ,  0.0356324 ,  0.06965472, ...,  0.10907735,\n",
       "            0.07869138, -0.10513119],\n",
       "          [-0.02633517,  0.09838192,  0.08554535, ..., -0.00620809,\n",
       "           -0.02783529, -0.11505258]],\n",
       " \n",
       "         [[ 0.08652237, -0.09469111, -0.09647942, ...,  0.0298586 ,\n",
       "           -0.02490096, -0.06165579],\n",
       "          [-0.0573376 ,  0.08581647,  0.02639207, ...,  0.07889967,\n",
       "            0.08984183, -0.02725854],\n",
       "          [ 0.04864249, -0.08956611,  0.06791443, ...,  0.04411851,\n",
       "            0.00713685,  0.00936324],\n",
       "          ...,\n",
       "          [-0.08596304,  0.06242551, -0.02357186, ...,  0.06793921,\n",
       "           -0.11063272,  0.00593623],\n",
       "          [ 0.02233189, -0.10891841, -0.10529681, ...,  0.0439903 ,\n",
       "           -0.03393359, -0.10863301],\n",
       "          [-0.00332064, -0.08482601, -0.04096855, ..., -0.09127434,\n",
       "            0.03506558,  0.01905341]],\n",
       " \n",
       "         [[-0.00627389,  0.02136967,  0.04220398, ..., -0.06062253,\n",
       "            0.01996425, -0.00191071],\n",
       "          [-0.00619554,  0.09870182, -0.01177175, ..., -0.018608  ,\n",
       "            0.10588682,  0.00445004],\n",
       "          [-0.09701463,  0.02273718, -0.01807451, ..., -0.03602771,\n",
       "            0.06519262, -0.0897999 ],\n",
       "          ...,\n",
       "          [ 0.10633457, -0.08348708,  0.03268857, ...,  0.08624583,\n",
       "           -0.0417335 ,  0.04365553],\n",
       "          [-0.09524444, -0.07672671,  0.0199766 , ..., -0.08970431,\n",
       "            0.00515445,  0.05419686],\n",
       "          [ 0.06086081, -0.08751558,  0.08971417, ...,  0.06809045,\n",
       "            0.02209239,  0.1148375 ]]],\n",
       " \n",
       " \n",
       "        [[[-0.05726046,  0.10232699, -0.07295854, ...,  0.11456133,\n",
       "           -0.10127446,  0.0296209 ],\n",
       "          [ 0.05920112,  0.00961503,  0.08664224, ..., -0.06230468,\n",
       "            0.04119369, -0.05706186],\n",
       "          [-0.10347594,  0.03556556, -0.0356231 , ...,  0.03645128,\n",
       "           -0.05233382,  0.0582633 ],\n",
       "          ...,\n",
       "          [-0.091772  ,  0.02931769, -0.01843629, ..., -0.10202827,\n",
       "           -0.05589962,  0.02615152],\n",
       "          [ 0.05193713, -0.0755741 ,  0.0935159 , ..., -0.02473958,\n",
       "            0.0289292 , -0.10492252],\n",
       "          [-0.06761272, -0.02004606,  0.07432492, ..., -0.00886123,\n",
       "           -0.00828142, -0.08807177]],\n",
       " \n",
       "         [[-0.01595797, -0.07241151, -0.07157476, ...,  0.10785352,\n",
       "           -0.04563121,  0.06885725],\n",
       "          [-0.01198363,  0.06228745,  0.09342051, ..., -0.01611483,\n",
       "            0.10261495,  0.05127177],\n",
       "          [-0.07608064, -0.07939485,  0.0076836 , ...,  0.00137783,\n",
       "           -0.01106034,  0.04935431],\n",
       "          ...,\n",
       "          [-0.0288094 ,  0.03441243,  0.09491675, ..., -0.0631201 ,\n",
       "           -0.06929262, -0.0191888 ],\n",
       "          [-0.08066268, -0.04919662, -0.00774807, ..., -0.00816689,\n",
       "           -0.03187615, -0.05296908],\n",
       "          [ 0.02055064, -0.08586902,  0.05363321, ..., -0.0750861 ,\n",
       "            0.01287404, -0.09087683]],\n",
       " \n",
       "         [[ 0.11087637,  0.05614337, -0.01810051, ...,  0.03429316,\n",
       "           -0.05674119, -0.06710119],\n",
       "          [ 0.11506407,  0.05438389, -0.08038608, ..., -0.11041421,\n",
       "           -0.01959328, -0.10502319],\n",
       "          [-0.08766625,  0.10794035, -0.03834071, ..., -0.00291421,\n",
       "            0.10028441, -0.07554798],\n",
       "          ...,\n",
       "          [-0.01658791,  0.01691987, -0.06137928, ...,  0.03344053,\n",
       "           -0.05283773,  0.09365822],\n",
       "          [-0.11050803, -0.07834841, -0.00125218, ...,  0.02000259,\n",
       "           -0.09963369, -0.02306084],\n",
       "          [ 0.00609428, -0.05917398,  0.11261906, ...,  0.05949052,\n",
       "            0.08002257, -0.09285528]]]], dtype=float32),\n",
       " array([0., 0., 0., 0., 0., 0., 0., 0., 0., 0., 0., 0., 0., 0., 0., 0., 0.,\n",
       "        0., 0., 0., 0., 0., 0., 0., 0.], dtype=float32),\n",
       " array([[[[ 9.58638638e-02,  3.26180011e-02, -9.75540280e-02, ...,\n",
       "           -5.82541339e-02,  5.86327165e-03,  8.84170234e-02],\n",
       "          [ 8.41951817e-02, -6.59336299e-02,  8.85671526e-02, ...,\n",
       "            7.46085942e-02, -6.22054376e-02, -3.78671065e-02],\n",
       "          [-9.70467180e-03,  2.31669098e-02, -4.78639081e-02, ...,\n",
       "            5.17873466e-02, -8.66961181e-02, -1.09494455e-01],\n",
       "          ...,\n",
       "          [-5.04526794e-02, -9.01328772e-02, -6.79443255e-02, ...,\n",
       "            2.08899379e-04, -6.96196556e-02, -3.19482535e-02],\n",
       "          [ 3.96985561e-02, -9.02932882e-03, -6.68496192e-02, ...,\n",
       "            1.07383296e-01, -1.03785597e-01,  1.56993419e-02],\n",
       "          [ 2.82880366e-02,  5.87116927e-02,  5.32106012e-02, ...,\n",
       "            3.59852761e-02, -4.97907177e-02, -7.81912655e-02]],\n",
       " \n",
       "         [[-3.98873836e-02, -4.04112786e-03,  7.16311485e-03, ...,\n",
       "            2.90506929e-02, -8.42953995e-02, -2.42291391e-02],\n",
       "          [-7.47868791e-02, -4.60950360e-02, -9.26795825e-02, ...,\n",
       "           -5.00957817e-02, -1.04204141e-01,  4.92264628e-02],\n",
       "          [-3.18800583e-02, -4.23268899e-02, -7.91919306e-02, ...,\n",
       "           -6.80617988e-03, -8.26895386e-02, -7.70843327e-02],\n",
       "          ...,\n",
       "          [-4.90184128e-02, -2.72307321e-02, -1.07221305e-02, ...,\n",
       "           -5.27698174e-02, -6.79063648e-02, -7.49483705e-04],\n",
       "          [-3.01654264e-02,  3.15302014e-02, -5.17041460e-02, ...,\n",
       "           -6.25557005e-02, -1.02791235e-01, -8.43538716e-02],\n",
       "          [ 7.08470345e-02, -4.11047712e-02, -6.82218075e-02, ...,\n",
       "            4.48803157e-02,  1.02262795e-01, -1.09060057e-01]],\n",
       " \n",
       "         [[-5.86750992e-02, -3.66786271e-02, -7.62242302e-02, ...,\n",
       "           -7.02323094e-02, -3.71211246e-02,  8.38893503e-02],\n",
       "          [ 7.87160695e-02, -4.41364273e-02,  5.54661006e-02, ...,\n",
       "           -1.09627202e-01, -7.79349580e-02, -5.53448796e-02],\n",
       "          [-2.83025354e-02, -1.09352589e-01, -5.89524955e-02, ...,\n",
       "            5.30126542e-02, -3.02351043e-02,  7.00828433e-03],\n",
       "          ...,\n",
       "          [ 9.64073986e-02, -4.98117507e-02, -5.37750274e-02, ...,\n",
       "            6.83054626e-02, -5.28169721e-02, -8.27422813e-02],\n",
       "          [-1.34072378e-02,  5.76578379e-02,  2.30720788e-02, ...,\n",
       "           -1.13206267e-01,  6.41855597e-03,  3.42518389e-02],\n",
       "          [ 2.83808112e-02,  3.95050198e-02,  1.04898125e-01, ...,\n",
       "            1.99357718e-02,  6.69321567e-02, -1.78217366e-02]]],\n",
       " \n",
       " \n",
       "        [[[ 9.82515663e-02, -8.73650685e-02,  9.64363217e-02, ...,\n",
       "            5.11877239e-03, -6.39491975e-02,  5.48292100e-02],\n",
       "          [ 4.98439372e-02, -8.01869258e-02, -2.54173428e-02, ...,\n",
       "            6.58774078e-02,  1.05006978e-01,  2.78549194e-02],\n",
       "          [ 1.59541965e-02,  3.35823298e-02, -9.30770636e-02, ...,\n",
       "           -6.87136874e-02,  4.33912873e-02,  1.52170211e-02],\n",
       "          ...,\n",
       "          [ 9.19510275e-02,  4.34062481e-02,  1.12019062e-01, ...,\n",
       "            7.69048929e-02, -6.77017570e-02, -8.00343007e-02],\n",
       "          [ 2.20734775e-02,  9.77343023e-02,  1.04193792e-01, ...,\n",
       "            1.02197692e-01,  5.40742725e-02,  4.14920896e-02],\n",
       "          [-9.31993797e-02,  1.88232511e-02, -6.22337908e-02, ...,\n",
       "            2.11576819e-02,  4.56839055e-02,  7.46244490e-02]],\n",
       " \n",
       "         [[-3.26176807e-02, -1.10406503e-01,  2.89944559e-02, ...,\n",
       "            1.07284874e-01,  1.74877942e-02, -4.18207794e-02],\n",
       "          [-5.90450242e-02, -8.53139609e-02,  8.07949007e-02, ...,\n",
       "           -6.86030388e-02,  9.37600136e-02, -2.72081047e-03],\n",
       "          [ 8.45608711e-02,  9.17163491e-03,  3.67450118e-02, ...,\n",
       "            7.22031891e-02,  7.92313516e-02,  8.26617479e-02],\n",
       "          ...,\n",
       "          [ 1.14744186e-01, -6.57460093e-03,  1.36792064e-02, ...,\n",
       "           -3.76943871e-02,  1.09437272e-01, -1.05189309e-01],\n",
       "          [-1.00735009e-01,  1.18070096e-02, -2.94448510e-02, ...,\n",
       "           -5.73143363e-02, -3.02869156e-02,  1.06358767e-01],\n",
       "          [-1.04548216e-01, -1.00136690e-01,  1.44755989e-02, ...,\n",
       "            8.71684551e-02,  5.97927421e-02,  2.63893753e-02]],\n",
       " \n",
       "         [[ 8.57633054e-02,  4.05036807e-02, -1.09520912e-01, ...,\n",
       "            4.01778519e-02,  4.88139391e-02,  1.03449315e-01],\n",
       "          [ 9.45864320e-02,  1.00060627e-01, -1.13468744e-01, ...,\n",
       "           -2.30691805e-02,  5.10407239e-02, -8.65490213e-02],\n",
       "          [-7.27635995e-02,  6.04175031e-04, -1.34127960e-02, ...,\n",
       "           -8.24955553e-02, -1.87450945e-02,  7.68650174e-02],\n",
       "          ...,\n",
       "          [-4.45940569e-02,  5.80095351e-02,  8.05602372e-02, ...,\n",
       "           -5.96226342e-02, -8.75047594e-03,  8.51687342e-02],\n",
       "          [ 3.60384583e-05,  5.15956581e-02,  4.13927138e-02, ...,\n",
       "           -8.53174850e-02,  4.39432412e-02,  7.12701678e-02],\n",
       "          [ 9.12640095e-02, -3.38361636e-02,  9.88246053e-02, ...,\n",
       "           -5.42387180e-02, -1.01925604e-01,  2.82393843e-02]]],\n",
       " \n",
       " \n",
       "        [[[ 6.64301962e-02, -6.51850253e-02,  5.22950590e-02, ...,\n",
       "           -1.01448260e-01, -1.00962132e-01, -3.99308875e-02],\n",
       "          [ 5.98779321e-03,  5.58198839e-02, -4.69637662e-03, ...,\n",
       "           -2.80064493e-02, -8.56300592e-02,  7.50645697e-02],\n",
       "          [ 8.37199539e-02, -1.15199566e-01,  2.71179974e-02, ...,\n",
       "           -8.86524096e-02, -1.10842004e-01, -3.32865492e-02],\n",
       "          ...,\n",
       "          [ 9.33602154e-02, -7.95559585e-02, -2.95801908e-02, ...,\n",
       "            8.77618343e-02, -5.66461496e-02, -3.07692140e-02],\n",
       "          [ 4.48552370e-02, -4.07554954e-02, -1.02058329e-01, ...,\n",
       "           -6.97373152e-02, -1.09210983e-02, -6.56643584e-02],\n",
       "          [-3.39880511e-02, -1.03568137e-01, -6.51869029e-02, ...,\n",
       "            8.75155777e-02,  2.22722143e-02,  3.64602655e-02]],\n",
       " \n",
       "         [[ 1.09284788e-01, -2.61062607e-02, -8.99122730e-02, ...,\n",
       "           -3.17668319e-02, -1.03412271e-02, -1.01059504e-01],\n",
       "          [ 7.02050030e-02,  1.27307177e-02,  3.30543667e-02, ...,\n",
       "           -1.12230703e-02,  5.14743328e-02, -7.29320049e-02],\n",
       "          [-7.44245946e-03, -2.23812833e-02,  1.01108119e-01, ...,\n",
       "            8.12156796e-02,  1.00659743e-01,  7.72161186e-02],\n",
       "          ...,\n",
       "          [ 8.04817975e-02, -3.21799740e-02, -4.26201448e-02, ...,\n",
       "            3.09792757e-02, -8.77825618e-02, -7.57188797e-02],\n",
       "          [ 1.07502937e-02, -6.79282546e-02, -2.30175927e-02, ...,\n",
       "            1.29039586e-02, -8.71160850e-02,  1.22713894e-02],\n",
       "          [ 2.53011435e-02, -1.14872068e-01,  4.82489169e-03, ...,\n",
       "            8.77600461e-02, -7.18785822e-02,  1.05307490e-01]],\n",
       " \n",
       "         [[ 6.58362359e-02,  4.72518802e-02, -1.02041200e-01, ...,\n",
       "           -1.06849656e-01,  8.93847644e-03,  4.76047099e-02],\n",
       "          [-8.46483856e-02,  1.71670169e-02,  8.14375132e-02, ...,\n",
       "            5.11074811e-02,  9.03246552e-02, -8.31480473e-02],\n",
       "          [-6.16964847e-02,  6.17455989e-02,  1.07022822e-01, ...,\n",
       "           -1.03005916e-02, -4.15088609e-02,  2.95264721e-02],\n",
       "          ...,\n",
       "          [ 6.91352785e-02,  1.85941011e-02, -3.49540263e-02, ...,\n",
       "           -8.91362280e-02, -9.65187550e-02,  1.46063417e-02],\n",
       "          [ 7.89867491e-02,  5.98326027e-02, -6.77265078e-02, ...,\n",
       "            5.08113950e-03, -5.28141931e-02, -6.82417601e-02],\n",
       "          [-1.70062631e-02, -6.90337792e-02,  7.84359723e-02, ...,\n",
       "            5.34874946e-02, -1.12855427e-01, -7.43142366e-02]]]],\n",
       "       dtype=float32),\n",
       " array([0., 0., 0., 0., 0., 0., 0., 0., 0., 0., 0., 0., 0., 0., 0., 0., 0.,\n",
       "        0., 0., 0., 0., 0., 0., 0., 0.], dtype=float32),\n",
       " array([[-0.20383191,  0.09778728,  0.05945195, ...,  0.02879934,\n",
       "         -0.18690327,  0.24480425],\n",
       "        [-0.22877952, -0.10224532,  0.10838069, ...,  0.14097388,\n",
       "          0.23102675,  0.00979142],\n",
       "        [-0.24160017, -0.15123132, -0.12895256, ..., -0.23750253,\n",
       "         -0.1092014 , -0.07476971],\n",
       "        ...,\n",
       "        [ 0.06256475, -0.21813247, -0.0159193 , ...,  0.23965104,\n",
       "          0.15712036, -0.07125714],\n",
       "        [ 0.1417614 , -0.14770299, -0.08486156, ...,  0.15932222,\n",
       "         -0.2037107 ,  0.19081517],\n",
       "        [-0.04050183,  0.0912181 , -0.05943002, ..., -0.15784158,\n",
       "         -0.08122699,  0.11852296]], dtype=float32),\n",
       " array([0., 0., 0., 0., 0., 0., 0., 0., 0., 0., 0., 0., 0., 0., 0., 0., 0.,\n",
       "        0., 0., 0., 0., 0.], dtype=float32)]"
      ]
     },
     "execution_count": 40,
     "metadata": {},
     "output_type": "execute_result"
    }
   ],
   "source": [
    "weights_list"
   ]
  },
  {
   "cell_type": "code",
   "execution_count": 41,
   "metadata": {},
   "outputs": [
    {
     "name": "stderr",
     "output_type": "stream",
     "text": [
      "W0105 13:17:22.642224 10156 deprecation_wrapper.py:119] From C:\\Users\\ortiz\\Anaconda3\\lib\\site-packages\\keras\\optimizers.py:790: The name tf.train.Optimizer is deprecated. Please use tf.compat.v1.train.Optimizer instead.\n",
      "\n"
     ]
    }
   ],
   "source": [
    "new_model.compile(loss = keras.losses.categorical_crossentropy, optimizer=keras.optimizers.Adam(),\n",
    "              metrics=['accuracy'])"
   ]
  },
  {
   "cell_type": "code",
   "execution_count": 42,
   "metadata": {},
   "outputs": [
    {
     "name": "stderr",
     "output_type": "stream",
     "text": [
      "W0105 13:17:26.989234 10156 deprecation.py:323] From C:\\Users\\ortiz\\Anaconda3\\lib\\site-packages\\tensorflow\\python\\ops\\math_grad.py:1250: add_dispatch_support.<locals>.wrapper (from tensorflow.python.ops.array_ops) is deprecated and will be removed in a future version.\n",
      "Instructions for updating:\n",
      "Use tf.where in 2.0, which has the same broadcast rule as np.where\n"
     ]
    },
    {
     "name": "stdout",
     "output_type": "stream",
     "text": [
      "Epoch 1/15\n",
      "2217/2217 [==============================] - 41s 19ms/step - loss: 3.0803 - acc: 0.0668\n",
      "Epoch 2/15\n",
      "2217/2217 [==============================] - 43s 20ms/step - loss: 3.0083 - acc: 0.1001\n",
      "Epoch 3/15\n",
      "2217/2217 [==============================] - 43s 19ms/step - loss: 2.8759 - acc: 0.1498\n",
      "Epoch 4/15\n",
      "2217/2217 [==============================] - 43s 20ms/step - loss: 2.6942 - acc: 0.2043\n",
      "Epoch 5/15\n",
      "2217/2217 [==============================] - 43s 20ms/step - loss: 2.4897 - acc: 0.2733\n",
      "Epoch 6/15\n",
      "2217/2217 [==============================] - 44s 20ms/step - loss: 2.2821 - acc: 0.3541\n",
      "Epoch 7/15\n",
      "2217/2217 [==============================] - 43s 19ms/step - loss: 2.0658 - acc: 0.4344\n",
      "Epoch 8/15\n",
      "2217/2217 [==============================] - 42s 19ms/step - loss: 1.8821 - acc: 0.4826\n",
      "Epoch 9/15\n",
      "2217/2217 [==============================] - 43s 19ms/step - loss: 1.7108 - acc: 0.5345\n",
      "Epoch 10/15\n",
      "2217/2217 [==============================] - 43s 19ms/step - loss: 1.5657 - acc: 0.5882\n",
      "Epoch 11/15\n",
      "2217/2217 [==============================] - 43s 19ms/step - loss: 1.4095 - acc: 0.6468\n",
      "Epoch 12/15\n",
      "2217/2217 [==============================] - 44s 20ms/step - loss: 1.2987 - acc: 0.6892\n",
      "Epoch 13/15\n",
      "2217/2217 [==============================] - 43s 19ms/step - loss: 1.1933 - acc: 0.6964\n",
      "Epoch 14/15\n",
      "2217/2217 [==============================] - 44s 20ms/step - loss: 1.1009 - acc: 0.7370\n",
      "Epoch 15/15\n",
      "2217/2217 [==============================] - 44s 20ms/step - loss: 0.9976 - acc: 0.7740\n"
     ]
    }
   ],
   "source": [
    "# Ajuste del modelo sobre los datos de entrenamiento\n",
    "training = new_model.fit(x_train, y_train,epochs=15, batch_size=128)"
   ]
  },
  {
   "cell_type": "code",
   "execution_count": 43,
   "metadata": {},
   "outputs": [
    {
     "data": {
      "image/png": "[encoded data removed]",
      "text/plain": [
       "<Figure size 432x288 with 1 Axes>"
      ]
     },
     "metadata": {
      "needs_background": "light"
     },
     "output_type": "display_data"
    }
   ],
   "source": [
    "# Imagen del entrenamiento durante cada epoch\n",
    "plt.plot(training.history['loss'])\n",
    "plt.title(\"Loss\")\n",
    "plt.xlabel('epoch')\n",
    "plt.ylabel('Loss')\n",
    "plt.legend(['train','test'])\n",
    "plt.show()"
   ]
  },
  {
   "cell_type": "code",
   "execution_count": 44,
   "metadata": {},
   "outputs": [
    {
     "data": {
      "image/png": "[encoded data removed]",
      "text/plain": [
       "<Figure size 432x288 with 1 Axes>"
      ]
     },
     "metadata": {
      "needs_background": "light"
     },
     "output_type": "display_data"
    }
   ],
   "source": [
    "# Imagen del entrenamiento durante cada epoch\n",
    "plt.plot(training.history['acc'])\n",
    "plt.title(\"Accuracy\")\n",
    "plt.xlabel('epoch')\n",
    "plt.ylabel('Accuracy')\n",
    "plt.legend(['train','test'])\n",
    "plt.show()"
   ]
  },
  {
   "cell_type": "code",
   "execution_count": 45,
   "metadata": {},
   "outputs": [
    {
     "name": "stdout",
     "output_type": "stream",
     "text": [
      "951/951 [==============================] - 15s 16ms/step\n"
     ]
    },
    {
     "data": {
      "text/plain": [
       "[0.9705828868252245, 0.7991587797926052]"
      ]
     },
     "execution_count": 45,
     "metadata": {},
     "output_type": "execute_result"
    }
   ],
   "source": [
    "new_model.evaluate(x_test,y_test)"
   ]
  },
  {
   "cell_type": "code",
   "execution_count": 46,
   "metadata": {},
   "outputs": [
    {
     "data": {
      "text/plain": [
       "['loss', 'acc']"
      ]
     },
     "execution_count": 46,
     "metadata": {},
     "output_type": "execute_result"
    }
   ],
   "source": [
    "# Libreria para reportes de modelos\n",
    "from sklearn.metrics import classification_report\n",
    "# Libreria matrix confusión\n",
    "from sklearn.metrics import confusion_matrix\n",
    "# Librerias para hacer convolucion\n",
    "from scipy.ndimage.filters import convolve\n",
    "from scipy.signal import convolve2d\n",
    "from scipy import misc\n",
    "# vemos las variables que se miden\n",
    "new_model.metrics_names"
   ]
  },
  {
   "cell_type": "code",
   "execution_count": 47,
   "metadata": {},
   "outputs": [],
   "source": [
    "predictions = new_model.predict_classes(x_test)"
   ]
  },
  {
   "cell_type": "code",
   "execution_count": 48,
   "metadata": {},
   "outputs": [
    {
     "data": {
      "text/plain": [
       "(951, 22)"
      ]
     },
     "execution_count": 48,
     "metadata": {},
     "output_type": "execute_result"
    }
   ],
   "source": [
    "y_test.shape"
   ]
  },
  {
   "cell_type": "code",
   "execution_count": 49,
   "metadata": {},
   "outputs": [],
   "source": [
    "predictios_to_cat = label_binrizer.fit_transform(predictions)"
   ]
  },
  {
   "cell_type": "code",
   "execution_count": 50,
   "metadata": {},
   "outputs": [
    {
     "name": "stdout",
     "output_type": "stream",
     "text": [
      "              precision    recall  f1-score   support\n",
      "\n",
      "           0       0.92      1.00      0.96        44\n",
      "           1       0.98      1.00      0.99        43\n",
      "           2       0.98      0.93      0.95        43\n",
      "           3       0.67      0.88      0.76        43\n",
      "           4       0.94      1.00      0.97        44\n",
      "           5       0.77      0.53      0.63        43\n",
      "           6       0.45      0.43      0.44        44\n",
      "           7       0.57      0.72      0.64        43\n",
      "           8       0.82      0.93      0.87        43\n",
      "           9       0.92      0.77      0.84        43\n",
      "          10       0.70      0.89      0.78        44\n",
      "          11       0.81      0.79      0.80        43\n",
      "          12       0.75      1.00      0.86        43\n",
      "          13       0.87      0.77      0.81        43\n",
      "          14       1.00      0.81      0.90        43\n",
      "          15       0.70      0.75      0.73        44\n",
      "          16       0.90      0.65      0.76        43\n",
      "          17       0.90      0.65      0.76        43\n",
      "          18       0.93      0.88      0.90        43\n",
      "          19       0.82      0.77      0.80        43\n",
      "          20       0.68      0.84      0.75        43\n",
      "          21       0.78      0.58      0.67        43\n",
      "\n",
      "   micro avg       0.80      0.80      0.80       951\n",
      "   macro avg       0.81      0.80      0.80       951\n",
      "weighted avg       0.81      0.80      0.80       951\n",
      " samples avg       0.80      0.80      0.80       951\n",
      "\n"
     ]
    }
   ],
   "source": [
    "# veamos lo de cada clase\n",
    "print(classification_report(y_test,predictios_to_cat))"
   ]
  },
  {
   "cell_type": "code",
   "execution_count": 51,
   "metadata": {},
   "outputs": [
    {
     "data": {
      "text/plain": [
       "<matplotlib.image.AxesImage at 0x23e8e283da0>"
      ]
     },
     "execution_count": 51,
     "metadata": {},
     "output_type": "execute_result"
    },
    {
     "data": {
      "image/png": "[encoded data removed]",
      "text/plain": [
       "<Figure size 432x288 with 1 Axes>"
      ]
     },
     "metadata": {
      "needs_background": "light"
     },
     "output_type": "display_data"
    }
   ],
   "source": [
    "# Obtenemos los valores de la primera matriz de convolucion\n",
    "conv1 = new_model.layers[0]\n",
    "weights1 = conv1.get_weights()\n",
    "kernels1 = weights1[0]\n",
    "kernel1_1 = kernels1[:, :, 0, 0]\n",
    "plt.imshow(kernel1_1)"
   ]
  },
  {
   "cell_type": "code",
   "execution_count": 52,
   "metadata": {},
   "outputs": [],
   "source": [
    "test_image = matriz[21].reshape(240,320)"
   ]
  },
  {
   "cell_type": "code",
   "execution_count": 53,
   "metadata": {},
   "outputs": [
    {
     "data": {
      "text/plain": [
       "<matplotlib.image.AxesImage at 0x23e8e2e72b0>"
      ]
     },
     "execution_count": 53,
     "metadata": {},
     "output_type": "execute_result"
    },
    {
     "data": {
      "image/png": "[encoded data removed]",
      "text/plain": [
       "<Figure size 432x288 with 1 Axes>"
      ]
     },
     "metadata": {
      "needs_background": "light"
     },
     "output_type": "display_data"
    }
   ],
   "source": [
    "plt.imshow(test_image)"
   ]
  },
  {
   "cell_type": "code",
   "execution_count": 54,
   "metadata": {},
   "outputs": [
    {
     "data": {
      "text/plain": [
       "<matplotlib.image.AxesImage at 0x23e8e341550>"
      ]
     },
     "execution_count": 54,
     "metadata": {},
     "output_type": "execute_result"
    },
    {
     "data": {
      "image/png": "[encoded data removed]",
      "text/plain": [
       "<Figure size 432x288 with 1 Axes>"
      ]
     },
     "metadata": {
      "needs_background": "light"
     },
     "output_type": "display_data"
    }
   ],
   "source": [
    "# Convolucion de imagen con el primer Kernel\n",
    "res = convolve2d(test_image, kernel1_1)\n",
    "plt.imshow(res, cmap='gray')"
   ]
  },
  {
   "cell_type": "code",
   "execution_count": 55,
   "metadata": {},
   "outputs": [],
   "source": [
    "letras_prediccion = binaryToWords(predictios_to_cat)"
   ]
  },
  {
   "cell_type": "code",
   "execution_count": 56,
   "metadata": {},
   "outputs": [],
   "source": [
    "letras_reales = binaryToWords(y_test)"
   ]
  },
  {
   "cell_type": "code",
   "execution_count": 57,
   "metadata": {},
   "outputs": [],
   "source": [
    "MatrizConfusion = pretty_confusion_matrix(letras_reales, letras_prediccion, [\"HOY\",\"YO\",\"HOLA1\",\"HOLA2\",\"QUE_PASO_?\",\"GRACIAS\",\"MUCHO_GUSTO\",\n",
    "                                                   \"SIENTESE\",\"BANO\",\"ESCUCHAR\",\"ATARDECER\",\"COLOR\",\"PROFESOR\",\"UNIVERSIDAD\",\n",
    "                                                   \"TELEVISION\",\"NOVIO\",\"NOMBRE\",\"PAPA\",\"MAMA\",\"TENER_POSESION'\",\n",
    "                                                    \"TENER_CURIOSIDAD\",\"CASA\"])"
   ]
  },
  {
   "cell_type": "code",
   "execution_count": 58,
   "metadata": {},
   "outputs": [
    {
     "data": {
      "text/html": [
       "<div>\n",
       "<style scoped>\n",
       "    .dataframe tbody tr th:only-of-type {\n",
       "        vertical-align: middle;\n",
       "    }\n",
       "\n",
       "    .dataframe tbody tr th {\n",
       "        vertical-align: top;\n",
       "    }\n",
       "\n",
       "    .dataframe thead th {\n",
       "        text-align: right;\n",
       "    }\n",
       "</style>\n",
       "<table border=\"1\" class=\"dataframe\">\n",
       "  <thead>\n",
       "    <tr style=\"text-align: right;\">\n",
       "      <th></th>\n",
       "      <th>HOY</th>\n",
       "      <th>YO</th>\n",
       "      <th>HOLA1</th>\n",
       "      <th>HOLA2</th>\n",
       "      <th>QUE_PASO_?</th>\n",
       "      <th>GRACIAS</th>\n",
       "      <th>MUCHO_GUSTO</th>\n",
       "      <th>SIENTESE</th>\n",
       "      <th>BANO</th>\n",
       "      <th>ESCUCHAR</th>\n",
       "      <th>...</th>\n",
       "      <th>PROFESOR</th>\n",
       "      <th>UNIVERSIDAD</th>\n",
       "      <th>TELEVISION</th>\n",
       "      <th>NOVIO</th>\n",
       "      <th>NOMBRE</th>\n",
       "      <th>PAPA</th>\n",
       "      <th>MAMA</th>\n",
       "      <th>TENER_POSESION'</th>\n",
       "      <th>TENER_CURIOSIDAD</th>\n",
       "      <th>CASA</th>\n",
       "    </tr>\n",
       "  </thead>\n",
       "  <tbody>\n",
       "    <tr>\n",
       "      <th>HOY</th>\n",
       "      <td>44</td>\n",
       "      <td>0</td>\n",
       "      <td>0</td>\n",
       "      <td>0</td>\n",
       "      <td>0</td>\n",
       "      <td>0</td>\n",
       "      <td>0</td>\n",
       "      <td>0</td>\n",
       "      <td>0</td>\n",
       "      <td>0</td>\n",
       "      <td>...</td>\n",
       "      <td>0</td>\n",
       "      <td>0</td>\n",
       "      <td>0</td>\n",
       "      <td>0</td>\n",
       "      <td>0</td>\n",
       "      <td>0</td>\n",
       "      <td>0</td>\n",
       "      <td>0</td>\n",
       "      <td>0</td>\n",
       "      <td>0</td>\n",
       "    </tr>\n",
       "    <tr>\n",
       "      <th>YO</th>\n",
       "      <td>0</td>\n",
       "      <td>43</td>\n",
       "      <td>0</td>\n",
       "      <td>0</td>\n",
       "      <td>0</td>\n",
       "      <td>0</td>\n",
       "      <td>0</td>\n",
       "      <td>0</td>\n",
       "      <td>0</td>\n",
       "      <td>0</td>\n",
       "      <td>...</td>\n",
       "      <td>0</td>\n",
       "      <td>0</td>\n",
       "      <td>0</td>\n",
       "      <td>0</td>\n",
       "      <td>0</td>\n",
       "      <td>0</td>\n",
       "      <td>0</td>\n",
       "      <td>0</td>\n",
       "      <td>0</td>\n",
       "      <td>0</td>\n",
       "    </tr>\n",
       "    <tr>\n",
       "      <th>HOLA1</th>\n",
       "      <td>0</td>\n",
       "      <td>0</td>\n",
       "      <td>40</td>\n",
       "      <td>0</td>\n",
       "      <td>0</td>\n",
       "      <td>0</td>\n",
       "      <td>0</td>\n",
       "      <td>0</td>\n",
       "      <td>0</td>\n",
       "      <td>0</td>\n",
       "      <td>...</td>\n",
       "      <td>0</td>\n",
       "      <td>0</td>\n",
       "      <td>0</td>\n",
       "      <td>0</td>\n",
       "      <td>0</td>\n",
       "      <td>3</td>\n",
       "      <td>0</td>\n",
       "      <td>0</td>\n",
       "      <td>0</td>\n",
       "      <td>0</td>\n",
       "    </tr>\n",
       "    <tr>\n",
       "      <th>HOLA2</th>\n",
       "      <td>0</td>\n",
       "      <td>0</td>\n",
       "      <td>0</td>\n",
       "      <td>38</td>\n",
       "      <td>0</td>\n",
       "      <td>0</td>\n",
       "      <td>0</td>\n",
       "      <td>0</td>\n",
       "      <td>0</td>\n",
       "      <td>0</td>\n",
       "      <td>...</td>\n",
       "      <td>0</td>\n",
       "      <td>1</td>\n",
       "      <td>0</td>\n",
       "      <td>4</td>\n",
       "      <td>0</td>\n",
       "      <td>0</td>\n",
       "      <td>0</td>\n",
       "      <td>0</td>\n",
       "      <td>0</td>\n",
       "      <td>0</td>\n",
       "    </tr>\n",
       "    <tr>\n",
       "      <th>QUE_PASO_?</th>\n",
       "      <td>0</td>\n",
       "      <td>0</td>\n",
       "      <td>0</td>\n",
       "      <td>0</td>\n",
       "      <td>44</td>\n",
       "      <td>0</td>\n",
       "      <td>0</td>\n",
       "      <td>0</td>\n",
       "      <td>0</td>\n",
       "      <td>0</td>\n",
       "      <td>...</td>\n",
       "      <td>0</td>\n",
       "      <td>0</td>\n",
       "      <td>0</td>\n",
       "      <td>0</td>\n",
       "      <td>0</td>\n",
       "      <td>0</td>\n",
       "      <td>0</td>\n",
       "      <td>0</td>\n",
       "      <td>0</td>\n",
       "      <td>0</td>\n",
       "    </tr>\n",
       "    <tr>\n",
       "      <th>GRACIAS</th>\n",
       "      <td>0</td>\n",
       "      <td>0</td>\n",
       "      <td>0</td>\n",
       "      <td>11</td>\n",
       "      <td>0</td>\n",
       "      <td>23</td>\n",
       "      <td>0</td>\n",
       "      <td>0</td>\n",
       "      <td>0</td>\n",
       "      <td>2</td>\n",
       "      <td>...</td>\n",
       "      <td>0</td>\n",
       "      <td>4</td>\n",
       "      <td>0</td>\n",
       "      <td>3</td>\n",
       "      <td>0</td>\n",
       "      <td>0</td>\n",
       "      <td>0</td>\n",
       "      <td>0</td>\n",
       "      <td>0</td>\n",
       "      <td>0</td>\n",
       "    </tr>\n",
       "    <tr>\n",
       "      <th>MUCHO_GUSTO</th>\n",
       "      <td>0</td>\n",
       "      <td>0</td>\n",
       "      <td>0</td>\n",
       "      <td>0</td>\n",
       "      <td>3</td>\n",
       "      <td>0</td>\n",
       "      <td>19</td>\n",
       "      <td>21</td>\n",
       "      <td>0</td>\n",
       "      <td>0</td>\n",
       "      <td>...</td>\n",
       "      <td>1</td>\n",
       "      <td>0</td>\n",
       "      <td>0</td>\n",
       "      <td>0</td>\n",
       "      <td>0</td>\n",
       "      <td>0</td>\n",
       "      <td>0</td>\n",
       "      <td>0</td>\n",
       "      <td>0</td>\n",
       "      <td>0</td>\n",
       "    </tr>\n",
       "    <tr>\n",
       "      <th>SIENTESE</th>\n",
       "      <td>0</td>\n",
       "      <td>1</td>\n",
       "      <td>0</td>\n",
       "      <td>0</td>\n",
       "      <td>0</td>\n",
       "      <td>0</td>\n",
       "      <td>10</td>\n",
       "      <td>31</td>\n",
       "      <td>0</td>\n",
       "      <td>0</td>\n",
       "      <td>...</td>\n",
       "      <td>0</td>\n",
       "      <td>0</td>\n",
       "      <td>0</td>\n",
       "      <td>1</td>\n",
       "      <td>0</td>\n",
       "      <td>0</td>\n",
       "      <td>0</td>\n",
       "      <td>0</td>\n",
       "      <td>0</td>\n",
       "      <td>0</td>\n",
       "    </tr>\n",
       "    <tr>\n",
       "      <th>BANO</th>\n",
       "      <td>0</td>\n",
       "      <td>0</td>\n",
       "      <td>0</td>\n",
       "      <td>0</td>\n",
       "      <td>0</td>\n",
       "      <td>0</td>\n",
       "      <td>0</td>\n",
       "      <td>0</td>\n",
       "      <td>40</td>\n",
       "      <td>0</td>\n",
       "      <td>...</td>\n",
       "      <td>3</td>\n",
       "      <td>0</td>\n",
       "      <td>0</td>\n",
       "      <td>0</td>\n",
       "      <td>0</td>\n",
       "      <td>0</td>\n",
       "      <td>0</td>\n",
       "      <td>0</td>\n",
       "      <td>0</td>\n",
       "      <td>0</td>\n",
       "    </tr>\n",
       "    <tr>\n",
       "      <th>ESCUCHAR</th>\n",
       "      <td>0</td>\n",
       "      <td>0</td>\n",
       "      <td>0</td>\n",
       "      <td>0</td>\n",
       "      <td>0</td>\n",
       "      <td>0</td>\n",
       "      <td>0</td>\n",
       "      <td>0</td>\n",
       "      <td>0</td>\n",
       "      <td>33</td>\n",
       "      <td>...</td>\n",
       "      <td>0</td>\n",
       "      <td>0</td>\n",
       "      <td>0</td>\n",
       "      <td>0</td>\n",
       "      <td>0</td>\n",
       "      <td>0</td>\n",
       "      <td>0</td>\n",
       "      <td>0</td>\n",
       "      <td>9</td>\n",
       "      <td>0</td>\n",
       "    </tr>\n",
       "    <tr>\n",
       "      <th>ATARDECER</th>\n",
       "      <td>0</td>\n",
       "      <td>0</td>\n",
       "      <td>0</td>\n",
       "      <td>0</td>\n",
       "      <td>0</td>\n",
       "      <td>0</td>\n",
       "      <td>0</td>\n",
       "      <td>0</td>\n",
       "      <td>0</td>\n",
       "      <td>1</td>\n",
       "      <td>...</td>\n",
       "      <td>0</td>\n",
       "      <td>0</td>\n",
       "      <td>0</td>\n",
       "      <td>0</td>\n",
       "      <td>0</td>\n",
       "      <td>0</td>\n",
       "      <td>0</td>\n",
       "      <td>0</td>\n",
       "      <td>4</td>\n",
       "      <td>0</td>\n",
       "    </tr>\n",
       "    <tr>\n",
       "      <th>COLOR</th>\n",
       "      <td>0</td>\n",
       "      <td>0</td>\n",
       "      <td>0</td>\n",
       "      <td>0</td>\n",
       "      <td>0</td>\n",
       "      <td>0</td>\n",
       "      <td>0</td>\n",
       "      <td>0</td>\n",
       "      <td>0</td>\n",
       "      <td>0</td>\n",
       "      <td>...</td>\n",
       "      <td>5</td>\n",
       "      <td>0</td>\n",
       "      <td>0</td>\n",
       "      <td>1</td>\n",
       "      <td>0</td>\n",
       "      <td>0</td>\n",
       "      <td>0</td>\n",
       "      <td>0</td>\n",
       "      <td>0</td>\n",
       "      <td>3</td>\n",
       "    </tr>\n",
       "    <tr>\n",
       "      <th>PROFESOR</th>\n",
       "      <td>0</td>\n",
       "      <td>0</td>\n",
       "      <td>0</td>\n",
       "      <td>0</td>\n",
       "      <td>0</td>\n",
       "      <td>0</td>\n",
       "      <td>0</td>\n",
       "      <td>0</td>\n",
       "      <td>0</td>\n",
       "      <td>0</td>\n",
       "      <td>...</td>\n",
       "      <td>43</td>\n",
       "      <td>0</td>\n",
       "      <td>0</td>\n",
       "      <td>0</td>\n",
       "      <td>0</td>\n",
       "      <td>0</td>\n",
       "      <td>0</td>\n",
       "      <td>0</td>\n",
       "      <td>0</td>\n",
       "      <td>0</td>\n",
       "    </tr>\n",
       "    <tr>\n",
       "      <th>UNIVERSIDAD</th>\n",
       "      <td>0</td>\n",
       "      <td>0</td>\n",
       "      <td>0</td>\n",
       "      <td>3</td>\n",
       "      <td>0</td>\n",
       "      <td>7</td>\n",
       "      <td>0</td>\n",
       "      <td>0</td>\n",
       "      <td>0</td>\n",
       "      <td>0</td>\n",
       "      <td>...</td>\n",
       "      <td>0</td>\n",
       "      <td>33</td>\n",
       "      <td>0</td>\n",
       "      <td>0</td>\n",
       "      <td>0</td>\n",
       "      <td>0</td>\n",
       "      <td>0</td>\n",
       "      <td>0</td>\n",
       "      <td>0</td>\n",
       "      <td>0</td>\n",
       "    </tr>\n",
       "    <tr>\n",
       "      <th>TELEVISION</th>\n",
       "      <td>0</td>\n",
       "      <td>0</td>\n",
       "      <td>0</td>\n",
       "      <td>0</td>\n",
       "      <td>0</td>\n",
       "      <td>0</td>\n",
       "      <td>8</td>\n",
       "      <td>0</td>\n",
       "      <td>0</td>\n",
       "      <td>0</td>\n",
       "      <td>...</td>\n",
       "      <td>0</td>\n",
       "      <td>0</td>\n",
       "      <td>35</td>\n",
       "      <td>0</td>\n",
       "      <td>0</td>\n",
       "      <td>0</td>\n",
       "      <td>0</td>\n",
       "      <td>0</td>\n",
       "      <td>0</td>\n",
       "      <td>0</td>\n",
       "    </tr>\n",
       "    <tr>\n",
       "      <th>NOVIO</th>\n",
       "      <td>0</td>\n",
       "      <td>0</td>\n",
       "      <td>0</td>\n",
       "      <td>1</td>\n",
       "      <td>0</td>\n",
       "      <td>0</td>\n",
       "      <td>3</td>\n",
       "      <td>0</td>\n",
       "      <td>0</td>\n",
       "      <td>0</td>\n",
       "      <td>...</td>\n",
       "      <td>0</td>\n",
       "      <td>0</td>\n",
       "      <td>0</td>\n",
       "      <td>33</td>\n",
       "      <td>0</td>\n",
       "      <td>0</td>\n",
       "      <td>3</td>\n",
       "      <td>0</td>\n",
       "      <td>4</td>\n",
       "      <td>0</td>\n",
       "    </tr>\n",
       "    <tr>\n",
       "      <th>NOMBRE</th>\n",
       "      <td>4</td>\n",
       "      <td>0</td>\n",
       "      <td>0</td>\n",
       "      <td>0</td>\n",
       "      <td>0</td>\n",
       "      <td>0</td>\n",
       "      <td>0</td>\n",
       "      <td>0</td>\n",
       "      <td>6</td>\n",
       "      <td>0</td>\n",
       "      <td>...</td>\n",
       "      <td>0</td>\n",
       "      <td>0</td>\n",
       "      <td>0</td>\n",
       "      <td>0</td>\n",
       "      <td>28</td>\n",
       "      <td>0</td>\n",
       "      <td>0</td>\n",
       "      <td>0</td>\n",
       "      <td>0</td>\n",
       "      <td>0</td>\n",
       "    </tr>\n",
       "    <tr>\n",
       "      <th>PAPA</th>\n",
       "      <td>0</td>\n",
       "      <td>0</td>\n",
       "      <td>1</td>\n",
       "      <td>3</td>\n",
       "      <td>0</td>\n",
       "      <td>0</td>\n",
       "      <td>0</td>\n",
       "      <td>0</td>\n",
       "      <td>2</td>\n",
       "      <td>0</td>\n",
       "      <td>...</td>\n",
       "      <td>4</td>\n",
       "      <td>0</td>\n",
       "      <td>0</td>\n",
       "      <td>0</td>\n",
       "      <td>2</td>\n",
       "      <td>28</td>\n",
       "      <td>0</td>\n",
       "      <td>0</td>\n",
       "      <td>0</td>\n",
       "      <td>0</td>\n",
       "    </tr>\n",
       "    <tr>\n",
       "      <th>MAMA</th>\n",
       "      <td>0</td>\n",
       "      <td>0</td>\n",
       "      <td>0</td>\n",
       "      <td>1</td>\n",
       "      <td>0</td>\n",
       "      <td>0</td>\n",
       "      <td>0</td>\n",
       "      <td>0</td>\n",
       "      <td>0</td>\n",
       "      <td>0</td>\n",
       "      <td>...</td>\n",
       "      <td>0</td>\n",
       "      <td>0</td>\n",
       "      <td>0</td>\n",
       "      <td>4</td>\n",
       "      <td>0</td>\n",
       "      <td>0</td>\n",
       "      <td>38</td>\n",
       "      <td>0</td>\n",
       "      <td>0</td>\n",
       "      <td>0</td>\n",
       "    </tr>\n",
       "    <tr>\n",
       "      <th>TENER_POSESION'</th>\n",
       "      <td>0</td>\n",
       "      <td>0</td>\n",
       "      <td>0</td>\n",
       "      <td>0</td>\n",
       "      <td>0</td>\n",
       "      <td>0</td>\n",
       "      <td>0</td>\n",
       "      <td>0</td>\n",
       "      <td>0</td>\n",
       "      <td>0</td>\n",
       "      <td>...</td>\n",
       "      <td>0</td>\n",
       "      <td>0</td>\n",
       "      <td>0</td>\n",
       "      <td>0</td>\n",
       "      <td>0</td>\n",
       "      <td>0</td>\n",
       "      <td>0</td>\n",
       "      <td>33</td>\n",
       "      <td>0</td>\n",
       "      <td>4</td>\n",
       "    </tr>\n",
       "    <tr>\n",
       "      <th>TENER_CURIOSIDAD</th>\n",
       "      <td>0</td>\n",
       "      <td>0</td>\n",
       "      <td>0</td>\n",
       "      <td>0</td>\n",
       "      <td>0</td>\n",
       "      <td>0</td>\n",
       "      <td>0</td>\n",
       "      <td>0</td>\n",
       "      <td>0</td>\n",
       "      <td>0</td>\n",
       "      <td>...</td>\n",
       "      <td>0</td>\n",
       "      <td>0</td>\n",
       "      <td>0</td>\n",
       "      <td>0</td>\n",
       "      <td>0</td>\n",
       "      <td>0</td>\n",
       "      <td>0</td>\n",
       "      <td>0</td>\n",
       "      <td>36</td>\n",
       "      <td>0</td>\n",
       "    </tr>\n",
       "    <tr>\n",
       "      <th>CASA</th>\n",
       "      <td>0</td>\n",
       "      <td>0</td>\n",
       "      <td>0</td>\n",
       "      <td>0</td>\n",
       "      <td>0</td>\n",
       "      <td>0</td>\n",
       "      <td>2</td>\n",
       "      <td>2</td>\n",
       "      <td>1</td>\n",
       "      <td>0</td>\n",
       "      <td>...</td>\n",
       "      <td>1</td>\n",
       "      <td>0</td>\n",
       "      <td>0</td>\n",
       "      <td>1</td>\n",
       "      <td>1</td>\n",
       "      <td>0</td>\n",
       "      <td>0</td>\n",
       "      <td>7</td>\n",
       "      <td>0</td>\n",
       "      <td>25</td>\n",
       "    </tr>\n",
       "  </tbody>\n",
       "</table>\n",
       "<p>22 rows × 22 columns</p>\n",
       "</div>"
      ],
      "text/plain": [
       "                  HOY  YO  HOLA1  HOLA2  QUE_PASO_?  GRACIAS  MUCHO_GUSTO  \\\n",
       "HOY                44   0      0      0           0        0            0   \n",
       "YO                  0  43      0      0           0        0            0   \n",
       "HOLA1               0   0     40      0           0        0            0   \n",
       "HOLA2               0   0      0     38           0        0            0   \n",
       "QUE_PASO_?          0   0      0      0          44        0            0   \n",
       "GRACIAS             0   0      0     11           0       23            0   \n",
       "MUCHO_GUSTO         0   0      0      0           3        0           19   \n",
       "SIENTESE            0   1      0      0           0        0           10   \n",
       "BANO                0   0      0      0           0        0            0   \n",
       "ESCUCHAR            0   0      0      0           0        0            0   \n",
       "ATARDECER           0   0      0      0           0        0            0   \n",
       "COLOR               0   0      0      0           0        0            0   \n",
       "PROFESOR            0   0      0      0           0        0            0   \n",
       "UNIVERSIDAD         0   0      0      3           0        7            0   \n",
       "TELEVISION          0   0      0      0           0        0            8   \n",
       "NOVIO               0   0      0      1           0        0            3   \n",
       "NOMBRE              4   0      0      0           0        0            0   \n",
       "PAPA                0   0      1      3           0        0            0   \n",
       "MAMA                0   0      0      1           0        0            0   \n",
       "TENER_POSESION'     0   0      0      0           0        0            0   \n",
       "TENER_CURIOSIDAD    0   0      0      0           0        0            0   \n",
       "CASA                0   0      0      0           0        0            2   \n",
       "\n",
       "                  SIENTESE  BANO  ESCUCHAR  ...  PROFESOR  UNIVERSIDAD  \\\n",
       "HOY                      0     0         0  ...         0            0   \n",
       "YO                       0     0         0  ...         0            0   \n",
       "HOLA1                    0     0         0  ...         0            0   \n",
       "HOLA2                    0     0         0  ...         0            1   \n",
       "QUE_PASO_?               0     0         0  ...         0            0   \n",
       "GRACIAS                  0     0         2  ...         0            4   \n",
       "MUCHO_GUSTO             21     0         0  ...         1            0   \n",
       "SIENTESE                31     0         0  ...         0            0   \n",
       "BANO                     0    40         0  ...         3            0   \n",
       "ESCUCHAR                 0     0        33  ...         0            0   \n",
       "ATARDECER                0     0         1  ...         0            0   \n",
       "COLOR                    0     0         0  ...         5            0   \n",
       "PROFESOR                 0     0         0  ...        43            0   \n",
       "UNIVERSIDAD              0     0         0  ...         0           33   \n",
       "TELEVISION               0     0         0  ...         0            0   \n",
       "NOVIO                    0     0         0  ...         0            0   \n",
       "NOMBRE                   0     6         0  ...         0            0   \n",
       "PAPA                     0     2         0  ...         4            0   \n",
       "MAMA                     0     0         0  ...         0            0   \n",
       "TENER_POSESION'          0     0         0  ...         0            0   \n",
       "TENER_CURIOSIDAD         0     0         0  ...         0            0   \n",
       "CASA                     2     1         0  ...         1            0   \n",
       "\n",
       "                  TELEVISION  NOVIO  NOMBRE  PAPA  MAMA  TENER_POSESION'  \\\n",
       "HOY                        0      0       0     0     0                0   \n",
       "YO                         0      0       0     0     0                0   \n",
       "HOLA1                      0      0       0     3     0                0   \n",
       "HOLA2                      0      4       0     0     0                0   \n",
       "QUE_PASO_?                 0      0       0     0     0                0   \n",
       "GRACIAS                    0      3       0     0     0                0   \n",
       "MUCHO_GUSTO                0      0       0     0     0                0   \n",
       "SIENTESE                   0      1       0     0     0                0   \n",
       "BANO                       0      0       0     0     0                0   \n",
       "ESCUCHAR                   0      0       0     0     0                0   \n",
       "ATARDECER                  0      0       0     0     0                0   \n",
       "COLOR                      0      1       0     0     0                0   \n",
       "PROFESOR                   0      0       0     0     0                0   \n",
       "UNIVERSIDAD                0      0       0     0     0                0   \n",
       "TELEVISION                35      0       0     0     0                0   \n",
       "NOVIO                      0     33       0     0     3                0   \n",
       "NOMBRE                     0      0      28     0     0                0   \n",
       "PAPA                       0      0       2    28     0                0   \n",
       "MAMA                       0      4       0     0    38                0   \n",
       "TENER_POSESION'            0      0       0     0     0               33   \n",
       "TENER_CURIOSIDAD           0      0       0     0     0                0   \n",
       "CASA                       0      1       1     0     0                7   \n",
       "\n",
       "                  TENER_CURIOSIDAD  CASA  \n",
       "HOY                              0     0  \n",
       "YO                               0     0  \n",
       "HOLA1                            0     0  \n",
       "HOLA2                            0     0  \n",
       "QUE_PASO_?                       0     0  \n",
       "GRACIAS                          0     0  \n",
       "MUCHO_GUSTO                      0     0  \n",
       "SIENTESE                         0     0  \n",
       "BANO                             0     0  \n",
       "ESCUCHAR                         9     0  \n",
       "ATARDECER                        4     0  \n",
       "COLOR                            0     3  \n",
       "PROFESOR                         0     0  \n",
       "UNIVERSIDAD                      0     0  \n",
       "TELEVISION                       0     0  \n",
       "NOVIO                            4     0  \n",
       "NOMBRE                           0     0  \n",
       "PAPA                             0     0  \n",
       "MAMA                             0     0  \n",
       "TENER_POSESION'                  0     4  \n",
       "TENER_CURIOSIDAD                36     0  \n",
       "CASA                             0    25  \n",
       "\n",
       "[22 rows x 22 columns]"
      ]
     },
     "execution_count": 58,
     "metadata": {},
     "output_type": "execute_result"
    }
   ],
   "source": [
    "MatrizConfusion"
   ]
  },
  {
   "cell_type": "code",
   "execution_count": 59,
   "metadata": {},
   "outputs": [],
   "source": [
    "MatrizConfusion.to_csv('MatrizConfusionDropout4LTFLR.csv')"
   ]
  },
  {
   "cell_type": "code",
   "execution_count": 60,
   "metadata": {},
   "outputs": [],
   "source": [
    "# Se guarda el modelo\n",
    "new_model.save('modeloDPFinalCV54LTL.h5')"
   ]
  }
 ],
 "metadata": {
  "kernelspec": {
   "display_name": "Python 3",
   "language": "python",
   "name": "python3"
  },
  "language_info": {
   "codemirror_mode": {
    "name": "ipython",
    "version": 3
   },
   "file_extension": ".py",
   "mimetype": "text/x-python",
   "name": "python",
   "nbconvert_exporter": "python",
   "pygments_lexer": "ipython3",
   "version": "3.7.3"
  }
 },
 "nbformat": 4,
 "nbformat_minor": 2
}
